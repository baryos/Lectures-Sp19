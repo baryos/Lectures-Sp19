{
 "cells": [
  {
   "cell_type": "markdown",
   "metadata": {
    "slideshow": {
     "slide_type": "slide"
    }
   },
   "source": [
    "## Course Announcements:\n",
    "\n",
    "- A3 due Sunday (11:59 PM)\n",
    "- Reminder: Courtesy Rule is in effect"
   ]
  },
  {
   "cell_type": "markdown",
   "metadata": {
    "slideshow": {
     "slide_type": "slide"
    }
   },
   "source": [
    "## Project Notes\n",
    "- You **can** adapt/change/edit your question, hypothesis, dataset\n",
    "- There is an outline file for your final project: https://github.com/COGS108/Projects/blob/master/FinalProject.ipynb\n",
    "- We're here to help guide you, but work with and discuss with your team first\n",
    "- In data science, it's up to the team to make decisions\n",
    "    - make them, defend them, consider & include their limitations\n",
    "- For EDA, not all plots have to be 'presentation quality'\n",
    "    - for the three that we grade (the ones that show your results), consider best visualization practices discussed \n",
    "        - this can take longer than expected\n",
    "- We'll discuss submission in detail later"
   ]
  },
  {
   "cell_type": "markdown",
   "metadata": {
    "slideshow": {
     "slide_type": "slide"
    }
   },
   "source": [
    "# Text Analysis\n",
    "\n",
    "- **Sentiment Analysis**\n",
    "    - tokenization\n",
    "    - stop words\n",
    "    - stemming\n",
    "- **TF-IDF**\n",
    "    - Bag of Words\n",
    "    - term frequency\n",
    "    - inverse document frequency\n",
    "- Tools: `nltk`"
   ]
  },
  {
   "cell_type": "markdown",
   "metadata": {
    "slideshow": {
     "slide_type": "slide"
    }
   },
   "source": [
    "#### Reminder: **Natural Language Processing** is a whole field of study.\n",
    "\n",
    "Like most topics in this course, there are many courses solely focused on the appropriate analysis of text. We'll cover the general concepts in this course, but know you're missing lots of important details."
   ]
  },
  {
   "cell_type": "markdown",
   "metadata": {
    "slideshow": {
     "slide_type": "slide"
    }
   },
   "source": [
    "## Natural Language Toolkit (`nltk`)\n",
    "\n",
    "For more details on using the functionality within this package, check out the [NLTK Book](http://www.nltk.org/book/).\n",
    "\n",
    "0. Preface\n",
    "1. Language Processing and Python\n",
    "2. Accessing Text Corpora and Lexical Resources\n",
    "3. Processing Raw Text\n",
    "4. Writing Structured Programs\n",
    "5. Categorizing and Tagging Words \n",
    "6. Learning to Classify Text\n",
    "7. Extracting Information from Text\n",
    "8. Analyzing Sentence Structure\n",
    "9. Building Feature Based Grammars\n",
    "10. Analyzing the Meaning of Sentences \n",
    "11. Managing Linguistic Data\n",
    "12. Afterword: Facing the Language Challenge"
   ]
  },
  {
   "cell_type": "code",
   "execution_count": 1,
   "metadata": {
    "slideshow": {
     "slide_type": "fragment"
    }
   },
   "outputs": [],
   "source": [
    "#import natural language toolkit\n",
    "import nltk"
   ]
  },
  {
   "cell_type": "markdown",
   "metadata": {
    "slideshow": {
     "slide_type": "fragment"
    }
   },
   "source": [
    "[VADER](https://github.com/cjhutto/vaderSentiment) is a particularly helpful tool/lexicon when working with sentiments expressed in social media (tweets, online reviews, etc.)\n",
    "\n",
    "Its functionality is available through `nltk`, so we'll download the vader lexicon for use later in this notebook."
   ]
  },
  {
   "cell_type": "code",
   "execution_count": 2,
   "metadata": {
    "slideshow": {
     "slide_type": "fragment"
    }
   },
   "outputs": [
    {
     "name": "stderr",
     "output_type": "stream",
     "text": [
      "[nltk_data] Downloading package vader_lexicon to\n",
      "[nltk_data]     /Users/shannonellis/nltk_data...\n",
      "[nltk_data]   Package vader_lexicon is already up-to-date!\n"
     ]
    },
    {
     "data": {
      "text/plain": [
       "True"
      ]
     },
     "execution_count": 2,
     "metadata": {},
     "output_type": "execute_result"
    }
   ],
   "source": [
    "# get lexicon we'll be working with today\n",
    "nltk.download('vader_lexicon')"
   ]
  },
  {
   "cell_type": "markdown",
   "metadata": {
    "slideshow": {
     "slide_type": "slide"
    }
   },
   "source": [
    "## The Data"
   ]
  },
  {
   "cell_type": "code",
   "execution_count": 88,
   "metadata": {
    "slideshow": {
     "slide_type": "skip"
    }
   },
   "outputs": [],
   "source": [
    "# pandas and matplotlib setup\n",
    "import pandas as pd\n",
    "\n",
    "import matplotlib.pyplot as plt\n",
    "plt.rcParams['figure.figsize'] = (17, 7)\n",
    "plt.rcParams.update({'font.size': 16})\n",
    "import seaborn as sns\n",
    "\n",
    "#improve resolution\n",
    "#comment this line if erroring on your machine/screen\n",
    "%config InlineBackend.figure_format ='retina'"
   ]
  },
  {
   "cell_type": "code",
   "execution_count": 89,
   "metadata": {
    "scrolled": true,
    "slideshow": {
     "slide_type": "fragment"
    }
   },
   "outputs": [
    {
     "data": {
      "text/html": [
       "<div>\n",
       "<style scoped>\n",
       "    .dataframe tbody tr th:only-of-type {\n",
       "        vertical-align: middle;\n",
       "    }\n",
       "\n",
       "    .dataframe tbody tr th {\n",
       "        vertical-align: top;\n",
       "    }\n",
       "\n",
       "    .dataframe thead th {\n",
       "        text-align: right;\n",
       "    }\n",
       "</style>\n",
       "<table border=\"1\" class=\"dataframe\">\n",
       "  <thead>\n",
       "    <tr style=\"text-align: right;\">\n",
       "      <th></th>\n",
       "      <th>enjoyed_most</th>\n",
       "      <th>enjoyed_least</th>\n",
       "      <th>difficulty</th>\n",
       "      <th>time_spent</th>\n",
       "      <th>section_attendance</th>\n",
       "      <th>helpful_materials</th>\n",
       "    </tr>\n",
       "  </thead>\n",
       "  <tbody>\n",
       "    <tr>\n",
       "      <th>0</th>\n",
       "      <td>No tests, project based class, optional lectur...</td>\n",
       "      <td>Group projects can be rough, especially the be...</td>\n",
       "      <td>somewhat more difficult</td>\n",
       "      <td>way more</td>\n",
       "      <td>almost every week</td>\n",
       "      <td>Lecture, Assignments</td>\n",
       "    </tr>\n",
       "    <tr>\n",
       "      <th>1</th>\n",
       "      <td>I enjoy learning how to use pandas through the...</td>\n",
       "      <td>NaN</td>\n",
       "      <td>somewhat easier</td>\n",
       "      <td>about the same</td>\n",
       "      <td>attend occasionally</td>\n",
       "      <td>Assignments, Group Project</td>\n",
       "    </tr>\n",
       "    <tr>\n",
       "      <th>2</th>\n",
       "      <td>No attendance</td>\n",
       "      <td>NaN</td>\n",
       "      <td>about as difficult</td>\n",
       "      <td>about the same</td>\n",
       "      <td>attend occasionally</td>\n",
       "      <td>Assignments, Piazza</td>\n",
       "    </tr>\n",
       "    <tr>\n",
       "      <th>3</th>\n",
       "      <td>Topics about how to handle several Python tools</td>\n",
       "      <td>nothing special</td>\n",
       "      <td>somewhat easier</td>\n",
       "      <td>about the same</td>\n",
       "      <td>attend occasionally</td>\n",
       "      <td>Section - Workbooks, Assignments</td>\n",
       "    </tr>\n",
       "    <tr>\n",
       "      <th>4</th>\n",
       "      <td>I like the assignments. They're fun and have a...</td>\n",
       "      <td>Nothing!</td>\n",
       "      <td>somewhat easier</td>\n",
       "      <td>about the same</td>\n",
       "      <td>do not attend</td>\n",
       "      <td>Assignments, Group Project, Piazza</td>\n",
       "    </tr>\n",
       "    <tr>\n",
       "      <th>5</th>\n",
       "      <td>NaN</td>\n",
       "      <td>NaN</td>\n",
       "      <td>about as difficult</td>\n",
       "      <td>about the same</td>\n",
       "      <td>attend occasionally</td>\n",
       "      <td>Lecture, Section - Workbooks, Assignments, Gro...</td>\n",
       "    </tr>\n",
       "  </tbody>\n",
       "</table>\n",
       "</div>"
      ],
      "text/plain": [
       "                                        enjoyed_most  \\\n",
       "0  No tests, project based class, optional lectur...   \n",
       "1  I enjoy learning how to use pandas through the...   \n",
       "2                                      No attendance   \n",
       "3    Topics about how to handle several Python tools   \n",
       "4  I like the assignments. They're fun and have a...   \n",
       "5                                                NaN   \n",
       "\n",
       "                                       enjoyed_least               difficulty  \\\n",
       "0  Group projects can be rough, especially the be...  somewhat more difficult   \n",
       "1                                                NaN          somewhat easier   \n",
       "2                                                NaN       about as difficult   \n",
       "3                                   nothing special           somewhat easier   \n",
       "4                                           Nothing!          somewhat easier   \n",
       "5                                                NaN       about as difficult   \n",
       "\n",
       "       time_spent   section_attendance  \\\n",
       "0        way more    almost every week   \n",
       "1  about the same  attend occasionally   \n",
       "2  about the same  attend occasionally   \n",
       "3  about the same  attend occasionally   \n",
       "4  about the same        do not attend   \n",
       "5  about the same  attend occasionally   \n",
       "\n",
       "                                   helpful_materials  \n",
       "0                               Lecture, Assignments  \n",
       "1                         Assignments, Group Project  \n",
       "2                                Assignments, Piazza  \n",
       "3                   Section - Workbooks, Assignments  \n",
       "4                 Assignments, Group Project, Piazza  \n",
       "5  Lecture, Section - Workbooks, Assignments, Gro...  "
      ]
     },
     "execution_count": 89,
     "metadata": {},
     "output_type": "execute_result"
    }
   ],
   "source": [
    "# read in feedback dataset\n",
    "df = pd.read_csv('https://raw.githubusercontent.com/shanellis/datasets/master/COGS108_feedback_Sp19.csv')\n",
    "df.head(6)"
   ]
  },
  {
   "cell_type": "markdown",
   "metadata": {
    "slideshow": {
     "slide_type": "slide"
    }
   },
   "source": [
    "## Describe & Explore\n",
    "\n",
    "We'll quickly describe and explore the data to see what information we have before moving on to Text Analysis."
   ]
  },
  {
   "cell_type": "markdown",
   "metadata": {
    "slideshow": {
     "slide_type": "fragment"
    }
   },
   "source": [
    "### Data Considerations\n",
    "\n",
    "- duplicate responses?\n",
    "- PIDs for individuals in the class (typos?)\n",
    "- missingness?\n",
    "- reflect reality?"
   ]
  },
  {
   "cell_type": "code",
   "execution_count": 90,
   "metadata": {
    "slideshow": {
     "slide_type": "fragment"
    }
   },
   "outputs": [
    {
     "data": {
      "text/plain": [
       "(384, 6)"
      ]
     },
     "execution_count": 90,
     "metadata": {},
     "output_type": "execute_result"
    }
   ],
   "source": [
    "# information about rows and columns\n",
    "df.shape"
   ]
  },
  {
   "cell_type": "markdown",
   "metadata": {
    "slideshow": {
     "slide_type": "fragment"
    }
   },
   "source": [
    "Note: There are 826 students enrolled in COGS108 this quarter. So, we're looking at the opinions of less than half of the students in this class."
   ]
  },
  {
   "cell_type": "markdown",
   "metadata": {
    "slideshow": {
     "slide_type": "fragment"
    }
   },
   "source": [
    "### Missingness"
   ]
  },
  {
   "cell_type": "code",
   "execution_count": 91,
   "metadata": {
    "scrolled": true,
    "slideshow": {
     "slide_type": "fragment"
    }
   },
   "outputs": [
    {
     "data": {
      "text/plain": [
       "enjoyed_most          58\n",
       "enjoyed_least         78\n",
       "difficulty             0\n",
       "time_spent             0\n",
       "section_attendance     8\n",
       "helpful_materials      0\n",
       "dtype: int64"
      ]
     },
     "execution_count": 91,
     "metadata": {},
     "output_type": "execute_result"
    }
   ],
   "source": [
    "# how many nonresponses\n",
    "df.isnull().sum()"
   ]
  },
  {
   "cell_type": "markdown",
   "metadata": {
    "slideshow": {
     "slide_type": "fragment"
    }
   },
   "source": [
    "We see that there are more nonresponses in the `enjoyed_least` category than the `enjoyed_most` category. So, more people left what they enjoyed least blank than they did what they enjoyed most."
   ]
  },
  {
   "cell_type": "code",
   "execution_count": 92,
   "metadata": {
    "slideshow": {
     "slide_type": "fragment"
    }
   },
   "outputs": [
    {
     "data": {
      "text/plain": [
       "(50, 6)"
      ]
     },
     "execution_count": 92,
     "metadata": {},
     "output_type": "execute_result"
    }
   ],
   "source": [
    "# number of people who didn't respond to either\n",
    "df[df['enjoyed_most'].isnull() & df['enjoyed_least'].isnull()].shape"
   ]
  },
  {
   "cell_type": "markdown",
   "metadata": {
    "slideshow": {
     "slide_type": "fragment"
    }
   },
   "source": [
    "This means that there are only 8 people who mentioned what they like least but didn't have a most. We may consider these people's responses to be of high importance. This suggests they're liking COGS108 less than others..."
   ]
  },
  {
   "cell_type": "code",
   "execution_count": 93,
   "metadata": {
    "scrolled": false,
    "slideshow": {
     "slide_type": "fragment"
    }
   },
   "outputs": [
    {
     "data": {
      "text/plain": [
       "['assigned groups because I was looking forward to working with my friends',\n",
       " 'Coding....',\n",
       " 'The professor focus too much on statistics and spend insufficient time in coding',\n",
       " 'What I have liked the least of COGS108 is that I have had trouble with the assignments since I came in with a matlab background and not a python background. So basically not knowing the language has been tough. ',\n",
       " 'Assigned groups. I enrolled in the class with a group of friends under the assumption that we’d get to work together as in previous iterations of the course.',\n",
       " 'The professor talked a bit fast',\n",
       " \"I think lectures are not organized and they are extremely confusing. It would help if they were catered in a more content / topic based way. The homeworks are extremely difficult if you don't have python experience \",\n",
       " 'Not being able to work with friends on the group project. Trying to work with chosen groupmates who do not care about this class.']"
      ]
     },
     "execution_count": 93,
     "metadata": {},
     "output_type": "execute_result"
    }
   ],
   "source": [
    "# number of people who didn't respond to either\n",
    "check_least = df[df['enjoyed_most'].isnull() & df['enjoyed_least'].notnull()]\n",
    "list(check_least['enjoyed_least'])"
   ]
  },
  {
   "cell_type": "markdown",
   "metadata": {
    "slideshow": {
     "slide_type": "fragment"
    }
   },
   "source": [
    "Missing data causes a problem in `nltk`, so we either get rid of individuals who didn't respond to both, or we can replace their missing data with 'No response', knowing that this text will be included in the analysis now."
   ]
  },
  {
   "cell_type": "code",
   "execution_count": 94,
   "metadata": {
    "slideshow": {
     "slide_type": "fragment"
    }
   },
   "outputs": [
    {
     "data": {
      "text/html": [
       "<div>\n",
       "<style scoped>\n",
       "    .dataframe tbody tr th:only-of-type {\n",
       "        vertical-align: middle;\n",
       "    }\n",
       "\n",
       "    .dataframe tbody tr th {\n",
       "        vertical-align: top;\n",
       "    }\n",
       "\n",
       "    .dataframe thead th {\n",
       "        text-align: right;\n",
       "    }\n",
       "</style>\n",
       "<table border=\"1\" class=\"dataframe\">\n",
       "  <thead>\n",
       "    <tr style=\"text-align: right;\">\n",
       "      <th></th>\n",
       "      <th>enjoyed_most</th>\n",
       "      <th>enjoyed_least</th>\n",
       "      <th>difficulty</th>\n",
       "      <th>time_spent</th>\n",
       "      <th>section_attendance</th>\n",
       "      <th>helpful_materials</th>\n",
       "    </tr>\n",
       "  </thead>\n",
       "  <tbody>\n",
       "    <tr>\n",
       "      <th>0</th>\n",
       "      <td>No tests, project based class, optional lectur...</td>\n",
       "      <td>Group projects can be rough, especially the be...</td>\n",
       "      <td>somewhat more difficult</td>\n",
       "      <td>way more</td>\n",
       "      <td>almost every week</td>\n",
       "      <td>Lecture, Assignments</td>\n",
       "    </tr>\n",
       "    <tr>\n",
       "      <th>1</th>\n",
       "      <td>I enjoy learning how to use pandas through the...</td>\n",
       "      <td>No response</td>\n",
       "      <td>somewhat easier</td>\n",
       "      <td>about the same</td>\n",
       "      <td>attend occasionally</td>\n",
       "      <td>Assignments, Group Project</td>\n",
       "    </tr>\n",
       "    <tr>\n",
       "      <th>2</th>\n",
       "      <td>No attendance</td>\n",
       "      <td>No response</td>\n",
       "      <td>about as difficult</td>\n",
       "      <td>about the same</td>\n",
       "      <td>attend occasionally</td>\n",
       "      <td>Assignments, Piazza</td>\n",
       "    </tr>\n",
       "    <tr>\n",
       "      <th>3</th>\n",
       "      <td>Topics about how to handle several Python tools</td>\n",
       "      <td>nothing special</td>\n",
       "      <td>somewhat easier</td>\n",
       "      <td>about the same</td>\n",
       "      <td>attend occasionally</td>\n",
       "      <td>Section - Workbooks, Assignments</td>\n",
       "    </tr>\n",
       "    <tr>\n",
       "      <th>4</th>\n",
       "      <td>I like the assignments. They're fun and have a...</td>\n",
       "      <td>Nothing!</td>\n",
       "      <td>somewhat easier</td>\n",
       "      <td>about the same</td>\n",
       "      <td>do not attend</td>\n",
       "      <td>Assignments, Group Project, Piazza</td>\n",
       "    </tr>\n",
       "  </tbody>\n",
       "</table>\n",
       "</div>"
      ],
      "text/plain": [
       "                                        enjoyed_most  \\\n",
       "0  No tests, project based class, optional lectur...   \n",
       "1  I enjoy learning how to use pandas through the...   \n",
       "2                                      No attendance   \n",
       "3    Topics about how to handle several Python tools   \n",
       "4  I like the assignments. They're fun and have a...   \n",
       "\n",
       "                                       enjoyed_least               difficulty  \\\n",
       "0  Group projects can be rough, especially the be...  somewhat more difficult   \n",
       "1                                        No response          somewhat easier   \n",
       "2                                        No response       about as difficult   \n",
       "3                                   nothing special           somewhat easier   \n",
       "4                                           Nothing!          somewhat easier   \n",
       "\n",
       "       time_spent   section_attendance                   helpful_materials  \n",
       "0        way more    almost every week                Lecture, Assignments  \n",
       "1  about the same  attend occasionally          Assignments, Group Project  \n",
       "2  about the same  attend occasionally                 Assignments, Piazza  \n",
       "3  about the same  attend occasionally    Section - Workbooks, Assignments  \n",
       "4  about the same        do not attend  Assignments, Group Project, Piazza  "
      ]
     },
     "execution_count": 94,
     "metadata": {},
     "output_type": "execute_result"
    }
   ],
   "source": [
    "# fill NAs with string 'No response'\n",
    "df['enjoyed_most'].fillna('No response', inplace=True)\n",
    "df['enjoyed_least'].fillna('No response', inplace=True)\n",
    "df.head()"
   ]
  },
  {
   "cell_type": "markdown",
   "metadata": {
    "slideshow": {
     "slide_type": "slide"
    }
   },
   "source": [
    "### Exploratory Plots\n",
    "\n",
    "These can give us a quick idea of students' thoughts on the course.\n",
    "\n",
    "- Relative Difficulty\n",
    "- Time Spent\n",
    "- Section Attendance"
   ]
  },
  {
   "cell_type": "code",
   "execution_count": 31,
   "metadata": {
    "slideshow": {
     "slide_type": "slide"
    }
   },
   "outputs": [
    {
     "data": {
      "image/png": "[encoded data removed]",
      "text/plain": [
       "<Figure size 1224x504 with 1 Axes>"
      ]
     },
     "metadata": {
      "image/png": {
       "height": 457,
       "width": 1021
      },
      "needs_background": "light"
     },
     "output_type": "display_data"
    }
   ],
   "source": [
    "sns.countplot(df['difficulty'],\n",
    "             order=['way more difficult','somewhat more difficult','about as difficult',\n",
    "                    'somewhat easier','way easier'])\n",
    "plt.title('Difficulty: Relative to other courses you\\'ve taken at UCSD, COGS108 is...');"
   ]
  },
  {
   "cell_type": "code",
   "execution_count": 32,
   "metadata": {
    "slideshow": {
     "slide_type": "slide"
    }
   },
   "outputs": [
    {
     "data": {
      "image/png": "[encoded data removed]",
      "text/plain": [
       "<Figure size 1224x504 with 1 Axes>"
      ]
     },
     "metadata": {
      "image/png": {
       "height": 457,
       "width": 1021
      },
      "needs_background": "light"
     },
     "output_type": "display_data"
    }
   ],
   "source": [
    "sns.countplot(df['time_spent'],\n",
    "             order=['way more','somewhat more','about the same',\n",
    "                    'somewhat less','way less'])\n",
    "plt.title('Workload: Relative to other courses you\\'ve taken at UCSD, COGS108 is...')\n",
    "plt.xlabel('time spent on COGS108 coursework');"
   ]
  },
  {
   "cell_type": "code",
   "execution_count": 33,
   "metadata": {
    "slideshow": {
     "slide_type": "slide"
    }
   },
   "outputs": [
    {
     "data": {
      "image/png": "[encoded data removed]",
      "text/plain": [
       "<Figure size 1224x504 with 1 Axes>"
      ]
     },
     "metadata": {
      "image/png": {
       "height": 438,
       "width": 1021
      },
      "needs_background": "light"
     },
     "output_type": "display_data"
    }
   ],
   "source": [
    "sns.countplot(df['section_attendance'])\n",
    "plt.title('COGS108 Weekly Section Attendance')\n",
    "plt.xlabel('');"
   ]
  },
  {
   "cell_type": "markdown",
   "metadata": {
    "slideshow": {
     "slide_type": "slide"
    }
   },
   "source": [
    "## Quick checks: Words of interest\n",
    "\n"
   ]
  },
  {
   "cell_type": "code",
   "execution_count": 37,
   "metadata": {},
   "outputs": [],
   "source": [
    "def check_word_freq(word):\n",
    "    \"\"\"checks for frequenccy of word specified in most and least enjoyed responses\"\"\"\n",
    "    most = df['enjoyed_most'].str.lower().str.contains(word).sum()/df['enjoyed_most'].notnull().sum()\n",
    "    least = df['enjoyed_least'].str.lower().str.contains(word).sum()/df['enjoyed_least'].notnull().sum()\n",
    "    \n",
    "    out = pd.DataFrame({'most_freq': [most], 'least_freq': [least]})\n",
    "    return out"
   ]
  },
  {
   "cell_type": "markdown",
   "metadata": {},
   "source": [
    "#### Assignment"
   ]
  },
  {
   "cell_type": "code",
   "execution_count": 38,
   "metadata": {
    "slideshow": {
     "slide_type": "fragment"
    }
   },
   "outputs": [
    {
     "data": {
      "text/html": [
       "<div>\n",
       "<style scoped>\n",
       "    .dataframe tbody tr th:only-of-type {\n",
       "        vertical-align: middle;\n",
       "    }\n",
       "\n",
       "    .dataframe tbody tr th {\n",
       "        vertical-align: top;\n",
       "    }\n",
       "\n",
       "    .dataframe thead th {\n",
       "        text-align: right;\n",
       "    }\n",
       "</style>\n",
       "<table border=\"1\" class=\"dataframe\">\n",
       "  <thead>\n",
       "    <tr style=\"text-align: right;\">\n",
       "      <th></th>\n",
       "      <th>most_freq</th>\n",
       "      <th>least_freq</th>\n",
       "    </tr>\n",
       "  </thead>\n",
       "  <tbody>\n",
       "    <tr>\n",
       "      <th>0</th>\n",
       "      <td>0.255208</td>\n",
       "      <td>0.117188</td>\n",
       "    </tr>\n",
       "  </tbody>\n",
       "</table>\n",
       "</div>"
      ],
      "text/plain": [
       "   most_freq  least_freq\n",
       "0   0.255208    0.117188"
      ]
     },
     "execution_count": 38,
     "metadata": {},
     "output_type": "execute_result"
    }
   ],
   "source": [
    "## check for assignment\n",
    "check_word_freq('assignment')"
   ]
  },
  {
   "cell_type": "code",
   "execution_count": 9,
   "metadata": {
    "scrolled": true,
    "slideshow": {
     "slide_type": "fragment"
    }
   },
   "outputs": [
    {
     "data": {
      "text/plain": [
       "0.8333333333333334"
      ]
     },
     "execution_count": 9,
     "metadata": {},
     "output_type": "execute_result"
    }
   ],
   "source": [
    "# can check helpfulness\n",
    "df['helpful_materials'].str.lower().str.contains('assignments').sum()/df['helpful_materials'].notnull().sum()"
   ]
  },
  {
   "cell_type": "markdown",
   "metadata": {},
   "source": [
    "#### Group Project"
   ]
  },
  {
   "cell_type": "code",
   "execution_count": 7,
   "metadata": {
    "scrolled": true,
    "slideshow": {
     "slide_type": "fragment"
    }
   },
   "outputs": [
    {
     "data": {
      "text/html": [
       "<div>\n",
       "<style scoped>\n",
       "    .dataframe tbody tr th:only-of-type {\n",
       "        vertical-align: middle;\n",
       "    }\n",
       "\n",
       "    .dataframe tbody tr th {\n",
       "        vertical-align: top;\n",
       "    }\n",
       "\n",
       "    .dataframe thead th {\n",
       "        text-align: right;\n",
       "    }\n",
       "</style>\n",
       "<table border=\"1\" class=\"dataframe\">\n",
       "  <thead>\n",
       "    <tr style=\"text-align: right;\">\n",
       "      <th></th>\n",
       "      <th>most_freq</th>\n",
       "      <th>least_freq</th>\n",
       "    </tr>\n",
       "  </thead>\n",
       "  <tbody>\n",
       "    <tr>\n",
       "      <th>0</th>\n",
       "      <td>0.125767</td>\n",
       "      <td>0.24183</td>\n",
       "    </tr>\n",
       "  </tbody>\n",
       "</table>\n",
       "</div>"
      ],
      "text/plain": [
       "   most_freq  least_freq\n",
       "0   0.125767     0.24183"
      ]
     },
     "execution_count": 7,
     "metadata": {},
     "output_type": "execute_result"
    }
   ],
   "source": [
    "## check for project in free text\n",
    "check_word_freq('project')"
   ]
  },
  {
   "cell_type": "code",
   "execution_count": 8,
   "metadata": {
    "scrolled": false,
    "slideshow": {
     "slide_type": "fragment"
    }
   },
   "outputs": [
    {
     "data": {
      "text/html": [
       "<div>\n",
       "<style scoped>\n",
       "    .dataframe tbody tr th:only-of-type {\n",
       "        vertical-align: middle;\n",
       "    }\n",
       "\n",
       "    .dataframe tbody tr th {\n",
       "        vertical-align: top;\n",
       "    }\n",
       "\n",
       "    .dataframe thead th {\n",
       "        text-align: right;\n",
       "    }\n",
       "</style>\n",
       "<table border=\"1\" class=\"dataframe\">\n",
       "  <thead>\n",
       "    <tr style=\"text-align: right;\">\n",
       "      <th></th>\n",
       "      <th>most_freq</th>\n",
       "      <th>least_freq</th>\n",
       "    </tr>\n",
       "  </thead>\n",
       "  <tbody>\n",
       "    <tr>\n",
       "      <th>0</th>\n",
       "      <td>0.070552</td>\n",
       "      <td>0.245098</td>\n",
       "    </tr>\n",
       "  </tbody>\n",
       "</table>\n",
       "</div>"
      ],
      "text/plain": [
       "   most_freq  least_freq\n",
       "0   0.070552    0.245098"
      ]
     },
     "execution_count": 8,
     "metadata": {},
     "output_type": "execute_result"
    }
   ],
   "source": [
    "## check for group in free text\n",
    "check_word_freq('group')"
   ]
  },
  {
   "cell_type": "code",
   "execution_count": 11,
   "metadata": {
    "scrolled": true,
    "slideshow": {
     "slide_type": "fragment"
    }
   },
   "outputs": [
    {
     "data": {
      "text/plain": [
       "0.3151041666666667"
      ]
     },
     "execution_count": 11,
     "metadata": {},
     "output_type": "execute_result"
    }
   ],
   "source": [
    "# can check helpfulness\n",
    "df['helpful_materials'].str.lower().str.contains('group project').sum()/df['helpful_materials'].notnull().sum()"
   ]
  },
  {
   "cell_type": "markdown",
   "metadata": {
    "slideshow": {
     "slide_type": "slide"
    }
   },
   "source": [
    "## Sentiment Analysis\n",
    "\n",
    "We get a quick snapshot of what's going on in COGS108, but we really want to understand the details. To do this, analyzing the sentiment of the text is a good next step."
   ]
  },
  {
   "cell_type": "markdown",
   "metadata": {
    "slideshow": {
     "slide_type": "slide"
    }
   },
   "source": [
    "#### Step 1: Tokenization\n",
    "\n",
    "Tokenization is the first step in analyzing text. \n",
    "\n",
    "1. Aquire text of interest\n",
    "2. Break text down (tokenize) into smaller chunks (i.e. words, bigrams, sentences, etc.)\n",
    "\n",
    "A **token** is a single entity - think of it as a building block of language."
   ]
  },
  {
   "cell_type": "markdown",
   "metadata": {
    "slideshow": {
     "slide_type": "slide"
    }
   },
   "source": [
    "### Tokenization Example\n",
    "\n",
    "Here we demonstrate what a tokenized single response looks like."
   ]
  },
  {
   "cell_type": "code",
   "execution_count": 39,
   "metadata": {
    "slideshow": {
     "slide_type": "fragment"
    }
   },
   "outputs": [],
   "source": [
    "## import word tokenizer\n",
    "from nltk.tokenize import word_tokenize"
   ]
  },
  {
   "cell_type": "code",
   "execution_count": 40,
   "metadata": {
    "slideshow": {
     "slide_type": "fragment"
    }
   },
   "outputs": [
    {
     "name": "stdout",
     "output_type": "stream",
     "text": [
      "['I', 'enjoy', 'learning', 'how', 'to', 'use', 'pandas', 'through', 'the', 'assignments', 'and', 'the', 'group', 'project', 'to', 'do', 'data', 'wrangling', 'and', 'cleaning', '.']\n"
     ]
    }
   ],
   "source": [
    "tokenized_word=word_tokenize(df.loc[1,'enjoyed_most'])\n",
    "print(tokenized_word)"
   ]
  },
  {
   "cell_type": "markdown",
   "metadata": {
    "slideshow": {
     "slide_type": "slide"
    }
   },
   "source": [
    "#### Tokenize COGS108 data\n",
    "\n",
    "Using that concept we'll tokenize the words in the enjoyed_most and `enjoyed_least` columns for the data in our COGS108 data."
   ]
  },
  {
   "cell_type": "code",
   "execution_count": 42,
   "metadata": {
    "slideshow": {
     "slide_type": "fragment"
    }
   },
   "outputs": [
    {
     "data": {
      "text/html": [
       "<div>\n",
       "<style scoped>\n",
       "    .dataframe tbody tr th:only-of-type {\n",
       "        vertical-align: middle;\n",
       "    }\n",
       "\n",
       "    .dataframe tbody tr th {\n",
       "        vertical-align: top;\n",
       "    }\n",
       "\n",
       "    .dataframe thead th {\n",
       "        text-align: right;\n",
       "    }\n",
       "</style>\n",
       "<table border=\"1\" class=\"dataframe\">\n",
       "  <thead>\n",
       "    <tr style=\"text-align: right;\">\n",
       "      <th></th>\n",
       "      <th>enjoyed_most</th>\n",
       "      <th>enjoyed_least</th>\n",
       "      <th>difficulty</th>\n",
       "      <th>time_spent</th>\n",
       "      <th>section_attendance</th>\n",
       "      <th>helpful_materials</th>\n",
       "      <th>most_token</th>\n",
       "      <th>least_token</th>\n",
       "    </tr>\n",
       "  </thead>\n",
       "  <tbody>\n",
       "    <tr>\n",
       "      <th>0</th>\n",
       "      <td>No tests, project based class, optional lectur...</td>\n",
       "      <td>Group projects can be rough, especially the be...</td>\n",
       "      <td>somewhat more difficult</td>\n",
       "      <td>way more</td>\n",
       "      <td>almost every week</td>\n",
       "      <td>Lecture, Assignments</td>\n",
       "      <td>[No, tests, ,, project, based, class, ,, optio...</td>\n",
       "      <td>[Group, projects, can, be, rough, ,, especiall...</td>\n",
       "    </tr>\n",
       "    <tr>\n",
       "      <th>1</th>\n",
       "      <td>I enjoy learning how to use pandas through the...</td>\n",
       "      <td>No response</td>\n",
       "      <td>somewhat easier</td>\n",
       "      <td>about the same</td>\n",
       "      <td>attend occasionally</td>\n",
       "      <td>Assignments, Group Project</td>\n",
       "      <td>[I, enjoy, learning, how, to, use, pandas, thr...</td>\n",
       "      <td>[No, response]</td>\n",
       "    </tr>\n",
       "    <tr>\n",
       "      <th>2</th>\n",
       "      <td>No attendance</td>\n",
       "      <td>No response</td>\n",
       "      <td>about as difficult</td>\n",
       "      <td>about the same</td>\n",
       "      <td>attend occasionally</td>\n",
       "      <td>Assignments, Piazza</td>\n",
       "      <td>[No, attendance]</td>\n",
       "      <td>[No, response]</td>\n",
       "    </tr>\n",
       "    <tr>\n",
       "      <th>3</th>\n",
       "      <td>Topics about how to handle several Python tools</td>\n",
       "      <td>nothing special</td>\n",
       "      <td>somewhat easier</td>\n",
       "      <td>about the same</td>\n",
       "      <td>attend occasionally</td>\n",
       "      <td>Section - Workbooks, Assignments</td>\n",
       "      <td>[Topics, about, how, to, handle, several, Pyth...</td>\n",
       "      <td>[nothing, special]</td>\n",
       "    </tr>\n",
       "    <tr>\n",
       "      <th>4</th>\n",
       "      <td>I like the assignments. They're fun and have a...</td>\n",
       "      <td>Nothing!</td>\n",
       "      <td>somewhat easier</td>\n",
       "      <td>about the same</td>\n",
       "      <td>do not attend</td>\n",
       "      <td>Assignments, Group Project, Piazza</td>\n",
       "      <td>[I, like, the, assignments, ., They, 're, fun,...</td>\n",
       "      <td>[Nothing, !]</td>\n",
       "    </tr>\n",
       "  </tbody>\n",
       "</table>\n",
       "</div>"
      ],
      "text/plain": [
       "                                        enjoyed_most  \\\n",
       "0  No tests, project based class, optional lectur...   \n",
       "1  I enjoy learning how to use pandas through the...   \n",
       "2                                      No attendance   \n",
       "3    Topics about how to handle several Python tools   \n",
       "4  I like the assignments. They're fun and have a...   \n",
       "\n",
       "                                       enjoyed_least               difficulty  \\\n",
       "0  Group projects can be rough, especially the be...  somewhat more difficult   \n",
       "1                                        No response          somewhat easier   \n",
       "2                                        No response       about as difficult   \n",
       "3                                   nothing special           somewhat easier   \n",
       "4                                           Nothing!          somewhat easier   \n",
       "\n",
       "       time_spent   section_attendance                   helpful_materials  \\\n",
       "0        way more    almost every week                Lecture, Assignments   \n",
       "1  about the same  attend occasionally          Assignments, Group Project   \n",
       "2  about the same  attend occasionally                 Assignments, Piazza   \n",
       "3  about the same  attend occasionally    Section - Workbooks, Assignments   \n",
       "4  about the same        do not attend  Assignments, Group Project, Piazza   \n",
       "\n",
       "                                          most_token  \\\n",
       "0  [No, tests, ,, project, based, class, ,, optio...   \n",
       "1  [I, enjoy, learning, how, to, use, pandas, thr...   \n",
       "2                                   [No, attendance]   \n",
       "3  [Topics, about, how, to, handle, several, Pyth...   \n",
       "4  [I, like, the, assignments, ., They, 're, fun,...   \n",
       "\n",
       "                                         least_token  \n",
       "0  [Group, projects, can, be, rough, ,, especiall...  \n",
       "1                                     [No, response]  \n",
       "2                                     [No, response]  \n",
       "3                                 [nothing, special]  \n",
       "4                                       [Nothing, !]  "
      ]
     },
     "execution_count": 42,
     "metadata": {},
     "output_type": "execute_result"
    }
   ],
   "source": [
    "# tokenize most and least responses\n",
    "df['most_token'] = df['enjoyed_most'].apply(word_tokenize) \n",
    "df['least_token'] = df['enjoyed_least'].apply(word_tokenize) \n",
    "df.head()"
   ]
  },
  {
   "cell_type": "markdown",
   "metadata": {
    "slideshow": {
     "slide_type": "slide"
    }
   },
   "source": [
    "#### Step 2: Stop Words\n",
    "\n",
    "**Stop words** are words that are of less interest to your analysis. \n",
    "\n",
    "For example, you wouldn't expect the following words to be important: is, am, are, this, a, an, the, etc.\n",
    "\n",
    "By removing stopwords, you can lower the computational burden, focusing on only the words of interest.\n",
    "\n",
    "To do so in `nltk`, you need to create a list of stopwords and filter them from your tokens.\n"
   ]
  },
  {
   "cell_type": "code",
   "execution_count": 43,
   "metadata": {
    "scrolled": true,
    "slideshow": {
     "slide_type": "fragment"
    }
   },
   "outputs": [
    {
     "name": "stdout",
     "output_type": "stream",
     "text": [
      "{'over', 'isn', 're', 'most', 'up', 'y', 'who', 'we', 'some', 'there', 'ain', 'whom', \"couldn't\", \"hasn't\", 'for', \"you'd\", 'weren', 'itself', 'that', 'any', 'few', 'myself', 'under', \"aren't\", 'so', 'ours', 'more', \"won't\", 'is', 'm', 'do', 'this', \"should've\", \"she's\", 'mustn', \"hadn't\", 'their', 'against', 'once', 'very', 'it', 'don', \"mustn't\", 'wouldn', 'and', 'where', 'about', 'won', 've', 'again', 'as', 'am', 'does', 'has', 'being', 'an', 'these', 'which', 'all', 'should', \"weren't\", 'his', 'by', 'how', \"shouldn't\", 'further', 'ma', 'the', 'herself', 'aren', 'a', 'then', 'same', 'such', 'o', 'himself', 'yourself', 'in', 'during', 'mightn', \"mightn't\", 'doing', 'why', 'are', 'own', 'll', 'doesn', 'did', 'be', 'couldn', 'he', 'because', 'down', 'had', 'no', 'other', 'hadn', 'with', 'my', 'him', 's', 'theirs', 'into', 'hers', 'both', 'didn', 'now', 'will', 'if', \"you've\", \"you'll\", 'yourselves', 'shan', 'ourselves', 'me', 'not', 'or', 'until', 'haven', \"needn't\", 'needn', \"shan't\", 'wasn', 'than', 'themselves', 'just', \"isn't\", 'have', 'here', 'our', \"it's\", 'what', 'of', 'on', 'can', 'while', 'when', 'off', \"wasn't\", 'to', 'i', 'from', 'nor', 'she', 'between', \"don't\", 'above', 'them', 'out', 'each', 't', 'hasn', 'were', 'below', 'having', 'yours', 'but', 'too', \"wouldn't\", 'only', 'they', 'shouldn', 'its', 'her', 'you', 'was', 'd', \"you're\", \"doesn't\", \"haven't\", 'been', 'before', \"that'll\", \"didn't\", 'those', 'your', 'at', 'through', 'after'}\n"
     ]
    }
   ],
   "source": [
    "# import stop words\n",
    "from nltk.corpus import stopwords\n",
    "stop_words=set(stopwords.words(\"english\"))\n",
    "\n",
    "# look at stop words\n",
    "print(stop_words)"
   ]
  },
  {
   "cell_type": "markdown",
   "metadata": {
    "slideshow": {
     "slide_type": "slide"
    }
   },
   "source": [
    "### Stop Words Example\n",
    "\n",
    "Here we compare a sentence after tokenization to one that has been tokenized _and had stop words removed_."
   ]
  },
  {
   "cell_type": "code",
   "execution_count": 44,
   "metadata": {
    "slideshow": {
     "slide_type": "fragment"
    }
   },
   "outputs": [
    {
     "name": "stdout",
     "output_type": "stream",
     "text": [
      "Tokenized Sentence: ['I', 'enjoy', 'learning', 'how', 'to', 'use', 'pandas', 'through', 'the', 'assignments', 'and', 'the', 'group', 'project', 'to', 'do', 'data', 'wrangling', 'and', 'cleaning', '.']\n",
      "Filterd Sentence: ['I', 'enjoy', 'learning', 'use', 'pandas', 'assignments', 'group', 'project', 'data', 'wrangling', 'cleaning', '.']\n"
     ]
    }
   ],
   "source": [
    "# example of removing stop words\n",
    "filtered_sent=[]\n",
    "for w in tokenized_word:\n",
    "    if w not in stop_words:\n",
    "        filtered_sent.append(w)\n",
    "print(\"Tokenized Sentence:\", tokenized_word)\n",
    "print(\"Filterd Sentence:\", filtered_sent)"
   ]
  },
  {
   "cell_type": "markdown",
   "metadata": {
    "slideshow": {
     "slide_type": "slide"
    }
   },
   "source": [
    "#### Remove Stop Words: COGS108 data\n",
    "\n",
    "Using that idea, we can go ahead and remove stop words from our tokenized most and least liked tokenized data."
   ]
  },
  {
   "cell_type": "code",
   "execution_count": 45,
   "metadata": {
    "slideshow": {
     "slide_type": "fragment"
    }
   },
   "outputs": [
    {
     "data": {
      "text/html": [
       "<div>\n",
       "<style scoped>\n",
       "    .dataframe tbody tr th:only-of-type {\n",
       "        vertical-align: middle;\n",
       "    }\n",
       "\n",
       "    .dataframe tbody tr th {\n",
       "        vertical-align: top;\n",
       "    }\n",
       "\n",
       "    .dataframe thead th {\n",
       "        text-align: right;\n",
       "    }\n",
       "</style>\n",
       "<table border=\"1\" class=\"dataframe\">\n",
       "  <thead>\n",
       "    <tr style=\"text-align: right;\">\n",
       "      <th></th>\n",
       "      <th>enjoyed_most</th>\n",
       "      <th>enjoyed_least</th>\n",
       "      <th>difficulty</th>\n",
       "      <th>time_spent</th>\n",
       "      <th>section_attendance</th>\n",
       "      <th>helpful_materials</th>\n",
       "      <th>most_token</th>\n",
       "      <th>least_token</th>\n",
       "      <th>most_stop</th>\n",
       "      <th>least_stop</th>\n",
       "    </tr>\n",
       "  </thead>\n",
       "  <tbody>\n",
       "    <tr>\n",
       "      <th>0</th>\n",
       "      <td>No tests, project based class, optional lectur...</td>\n",
       "      <td>Group projects can be rough, especially the be...</td>\n",
       "      <td>somewhat more difficult</td>\n",
       "      <td>way more</td>\n",
       "      <td>almost every week</td>\n",
       "      <td>Lecture, Assignments</td>\n",
       "      <td>[No, tests, ,, project, based, class, ,, optio...</td>\n",
       "      <td>[Group, projects, can, be, rough, ,, especiall...</td>\n",
       "      <td>[No, tests, ,, project, based, class, ,, optio...</td>\n",
       "      <td>[Group, projects, rough, ,, especially, beginn...</td>\n",
       "    </tr>\n",
       "    <tr>\n",
       "      <th>1</th>\n",
       "      <td>I enjoy learning how to use pandas through the...</td>\n",
       "      <td>No response</td>\n",
       "      <td>somewhat easier</td>\n",
       "      <td>about the same</td>\n",
       "      <td>attend occasionally</td>\n",
       "      <td>Assignments, Group Project</td>\n",
       "      <td>[I, enjoy, learning, how, to, use, pandas, thr...</td>\n",
       "      <td>[No, response]</td>\n",
       "      <td>[I, enjoy, learning, use, pandas, assignments,...</td>\n",
       "      <td>[No, response]</td>\n",
       "    </tr>\n",
       "    <tr>\n",
       "      <th>2</th>\n",
       "      <td>No attendance</td>\n",
       "      <td>No response</td>\n",
       "      <td>about as difficult</td>\n",
       "      <td>about the same</td>\n",
       "      <td>attend occasionally</td>\n",
       "      <td>Assignments, Piazza</td>\n",
       "      <td>[No, attendance]</td>\n",
       "      <td>[No, response]</td>\n",
       "      <td>[No, attendance]</td>\n",
       "      <td>[No, response]</td>\n",
       "    </tr>\n",
       "    <tr>\n",
       "      <th>3</th>\n",
       "      <td>Topics about how to handle several Python tools</td>\n",
       "      <td>nothing special</td>\n",
       "      <td>somewhat easier</td>\n",
       "      <td>about the same</td>\n",
       "      <td>attend occasionally</td>\n",
       "      <td>Section - Workbooks, Assignments</td>\n",
       "      <td>[Topics, about, how, to, handle, several, Pyth...</td>\n",
       "      <td>[nothing, special]</td>\n",
       "      <td>[Topics, handle, several, Python, tools]</td>\n",
       "      <td>[nothing, special]</td>\n",
       "    </tr>\n",
       "    <tr>\n",
       "      <th>4</th>\n",
       "      <td>I like the assignments. They're fun and have a...</td>\n",
       "      <td>Nothing!</td>\n",
       "      <td>somewhat easier</td>\n",
       "      <td>about the same</td>\n",
       "      <td>do not attend</td>\n",
       "      <td>Assignments, Group Project, Piazza</td>\n",
       "      <td>[I, like, the, assignments, ., They, 're, fun,...</td>\n",
       "      <td>[Nothing, !]</td>\n",
       "      <td>[I, like, assignments, ., They, 're, fun, good...</td>\n",
       "      <td>[Nothing, !]</td>\n",
       "    </tr>\n",
       "  </tbody>\n",
       "</table>\n",
       "</div>"
      ],
      "text/plain": [
       "                                        enjoyed_most  \\\n",
       "0  No tests, project based class, optional lectur...   \n",
       "1  I enjoy learning how to use pandas through the...   \n",
       "2                                      No attendance   \n",
       "3    Topics about how to handle several Python tools   \n",
       "4  I like the assignments. They're fun and have a...   \n",
       "\n",
       "                                       enjoyed_least               difficulty  \\\n",
       "0  Group projects can be rough, especially the be...  somewhat more difficult   \n",
       "1                                        No response          somewhat easier   \n",
       "2                                        No response       about as difficult   \n",
       "3                                   nothing special           somewhat easier   \n",
       "4                                           Nothing!          somewhat easier   \n",
       "\n",
       "       time_spent   section_attendance                   helpful_materials  \\\n",
       "0        way more    almost every week                Lecture, Assignments   \n",
       "1  about the same  attend occasionally          Assignments, Group Project   \n",
       "2  about the same  attend occasionally                 Assignments, Piazza   \n",
       "3  about the same  attend occasionally    Section - Workbooks, Assignments   \n",
       "4  about the same        do not attend  Assignments, Group Project, Piazza   \n",
       "\n",
       "                                          most_token  \\\n",
       "0  [No, tests, ,, project, based, class, ,, optio...   \n",
       "1  [I, enjoy, learning, how, to, use, pandas, thr...   \n",
       "2                                   [No, attendance]   \n",
       "3  [Topics, about, how, to, handle, several, Pyth...   \n",
       "4  [I, like, the, assignments, ., They, 're, fun,...   \n",
       "\n",
       "                                         least_token  \\\n",
       "0  [Group, projects, can, be, rough, ,, especiall...   \n",
       "1                                     [No, response]   \n",
       "2                                     [No, response]   \n",
       "3                                 [nothing, special]   \n",
       "4                                       [Nothing, !]   \n",
       "\n",
       "                                           most_stop  \\\n",
       "0  [No, tests, ,, project, based, class, ,, optio...   \n",
       "1  [I, enjoy, learning, use, pandas, assignments,...   \n",
       "2                                   [No, attendance]   \n",
       "3           [Topics, handle, several, Python, tools]   \n",
       "4  [I, like, assignments, ., They, 're, fun, good...   \n",
       "\n",
       "                                          least_stop  \n",
       "0  [Group, projects, rough, ,, especially, beginn...  \n",
       "1                                     [No, response]  \n",
       "2                                     [No, response]  \n",
       "3                                 [nothing, special]  \n",
       "4                                       [Nothing, !]  "
      ]
     },
     "execution_count": 45,
     "metadata": {},
     "output_type": "execute_result"
    }
   ],
   "source": [
    "# remove stop words\n",
    "df['most_stop'] = df['most_token'].apply(lambda x: [item for item in x if item not in stop_words])\n",
    "df['least_stop'] = df['least_token'].apply(lambda x: [item for item in x if item not in stop_words])\n",
    "df.head()"
   ]
  },
  {
   "cell_type": "markdown",
   "metadata": {
    "slideshow": {
     "slide_type": "slide"
    }
   },
   "source": [
    "#### Step 3: Lexicon Normalization (**Stemming**)\n",
    "\n",
    "In language, many different words come from the same root word. \n",
    "\n",
    "For example, \"intersecton\", \"intersecting\", \"intersects\", and \"intersected\" are all related to the common root word - \"intersect\".\n",
    "\n",
    "**Stemming** is how linguistic normalization occurs - it reduces words to their root words (and chops off additional things like 'ing') - all of the above words would be reduced to their common stem \"intersect.\"\n",
    "\n",
    "\n",
    "\n",
    "\n"
   ]
  },
  {
   "cell_type": "markdown",
   "metadata": {
    "slideshow": {
     "slide_type": "slide"
    }
   },
   "source": [
    "### Stemming Example\n",
    "\n",
    "After tokenization and removing stop words, we can get the stem for all tokens (words) in our dataset."
   ]
  },
  {
   "cell_type": "code",
   "execution_count": 46,
   "metadata": {
    "scrolled": true,
    "slideshow": {
     "slide_type": "fragment"
    }
   },
   "outputs": [
    {
     "name": "stdout",
     "output_type": "stream",
     "text": [
      "Filtered Sentence: ['I', 'enjoy', 'learning', 'use', 'pandas', 'assignments', 'group', 'project', 'data', 'wrangling', 'cleaning', '.']\n",
      "Stemmed Sentence: ['I', 'enjoy', 'learn', 'use', 'panda', 'assign', 'group', 'project', 'data', 'wrangl', 'clean', '.']\n"
     ]
    }
   ],
   "source": [
    "# Stemming\n",
    "from nltk.stem import PorterStemmer\n",
    "\n",
    "ps = PorterStemmer()\n",
    "\n",
    "stemmed_words=[]\n",
    "for w in filtered_sent:\n",
    "    stemmed_words.append(ps.stem(w))\n",
    "\n",
    "print(\"Filtered Sentence:\", filtered_sent)\n",
    "print(\"Stemmed Sentence:\", stemmed_words)"
   ]
  },
  {
   "cell_type": "markdown",
   "metadata": {
    "slideshow": {
     "slide_type": "slide"
    }
   },
   "source": [
    "#### Stemming: COGS108 data\n",
    "\n",
    "Here, we obtain the stem (root word) for all tokens in our dataset."
   ]
  },
  {
   "cell_type": "code",
   "execution_count": 47,
   "metadata": {
    "slideshow": {
     "slide_type": "fragment"
    }
   },
   "outputs": [
    {
     "data": {
      "text/html": [
       "<div>\n",
       "<style scoped>\n",
       "    .dataframe tbody tr th:only-of-type {\n",
       "        vertical-align: middle;\n",
       "    }\n",
       "\n",
       "    .dataframe tbody tr th {\n",
       "        vertical-align: top;\n",
       "    }\n",
       "\n",
       "    .dataframe thead th {\n",
       "        text-align: right;\n",
       "    }\n",
       "</style>\n",
       "<table border=\"1\" class=\"dataframe\">\n",
       "  <thead>\n",
       "    <tr style=\"text-align: right;\">\n",
       "      <th></th>\n",
       "      <th>enjoyed_most</th>\n",
       "      <th>enjoyed_least</th>\n",
       "      <th>difficulty</th>\n",
       "      <th>time_spent</th>\n",
       "      <th>section_attendance</th>\n",
       "      <th>helpful_materials</th>\n",
       "      <th>most_token</th>\n",
       "      <th>least_token</th>\n",
       "      <th>most_stop</th>\n",
       "      <th>least_stop</th>\n",
       "      <th>most_stem</th>\n",
       "      <th>least_stem</th>\n",
       "    </tr>\n",
       "  </thead>\n",
       "  <tbody>\n",
       "    <tr>\n",
       "      <th>0</th>\n",
       "      <td>No tests, project based class, optional lectur...</td>\n",
       "      <td>Group projects can be rough, especially the be...</td>\n",
       "      <td>somewhat more difficult</td>\n",
       "      <td>way more</td>\n",
       "      <td>almost every week</td>\n",
       "      <td>Lecture, Assignments</td>\n",
       "      <td>[No, tests, ,, project, based, class, ,, optio...</td>\n",
       "      <td>[Group, projects, can, be, rough, ,, especiall...</td>\n",
       "      <td>[No, tests, ,, project, based, class, ,, optio...</td>\n",
       "      <td>[Group, projects, rough, ,, especially, beginn...</td>\n",
       "      <td>[No, test, ,, project, base, class, ,, option,...</td>\n",
       "      <td>[group, project, rough, ,, especi, begin, sect...</td>\n",
       "    </tr>\n",
       "    <tr>\n",
       "      <th>1</th>\n",
       "      <td>I enjoy learning how to use pandas through the...</td>\n",
       "      <td>No response</td>\n",
       "      <td>somewhat easier</td>\n",
       "      <td>about the same</td>\n",
       "      <td>attend occasionally</td>\n",
       "      <td>Assignments, Group Project</td>\n",
       "      <td>[I, enjoy, learning, how, to, use, pandas, thr...</td>\n",
       "      <td>[No, response]</td>\n",
       "      <td>[I, enjoy, learning, use, pandas, assignments,...</td>\n",
       "      <td>[No, response]</td>\n",
       "      <td>[I, enjoy, learn, use, panda, assign, group, p...</td>\n",
       "      <td>[No, respons]</td>\n",
       "    </tr>\n",
       "    <tr>\n",
       "      <th>2</th>\n",
       "      <td>No attendance</td>\n",
       "      <td>No response</td>\n",
       "      <td>about as difficult</td>\n",
       "      <td>about the same</td>\n",
       "      <td>attend occasionally</td>\n",
       "      <td>Assignments, Piazza</td>\n",
       "      <td>[No, attendance]</td>\n",
       "      <td>[No, response]</td>\n",
       "      <td>[No, attendance]</td>\n",
       "      <td>[No, response]</td>\n",
       "      <td>[No, attend]</td>\n",
       "      <td>[No, respons]</td>\n",
       "    </tr>\n",
       "    <tr>\n",
       "      <th>3</th>\n",
       "      <td>Topics about how to handle several Python tools</td>\n",
       "      <td>nothing special</td>\n",
       "      <td>somewhat easier</td>\n",
       "      <td>about the same</td>\n",
       "      <td>attend occasionally</td>\n",
       "      <td>Section - Workbooks, Assignments</td>\n",
       "      <td>[Topics, about, how, to, handle, several, Pyth...</td>\n",
       "      <td>[nothing, special]</td>\n",
       "      <td>[Topics, handle, several, Python, tools]</td>\n",
       "      <td>[nothing, special]</td>\n",
       "      <td>[topic, handl, sever, python, tool]</td>\n",
       "      <td>[noth, special]</td>\n",
       "    </tr>\n",
       "    <tr>\n",
       "      <th>4</th>\n",
       "      <td>I like the assignments. They're fun and have a...</td>\n",
       "      <td>Nothing!</td>\n",
       "      <td>somewhat easier</td>\n",
       "      <td>about the same</td>\n",
       "      <td>do not attend</td>\n",
       "      <td>Assignments, Group Project, Piazza</td>\n",
       "      <td>[I, like, the, assignments, ., They, 're, fun,...</td>\n",
       "      <td>[Nothing, !]</td>\n",
       "      <td>[I, like, assignments, ., They, 're, fun, good...</td>\n",
       "      <td>[Nothing, !]</td>\n",
       "      <td>[I, like, assign, ., they, 're, fun, good, dif...</td>\n",
       "      <td>[noth, !]</td>\n",
       "    </tr>\n",
       "  </tbody>\n",
       "</table>\n",
       "</div>"
      ],
      "text/plain": [
       "                                        enjoyed_most  \\\n",
       "0  No tests, project based class, optional lectur...   \n",
       "1  I enjoy learning how to use pandas through the...   \n",
       "2                                      No attendance   \n",
       "3    Topics about how to handle several Python tools   \n",
       "4  I like the assignments. They're fun and have a...   \n",
       "\n",
       "                                       enjoyed_least               difficulty  \\\n",
       "0  Group projects can be rough, especially the be...  somewhat more difficult   \n",
       "1                                        No response          somewhat easier   \n",
       "2                                        No response       about as difficult   \n",
       "3                                   nothing special           somewhat easier   \n",
       "4                                           Nothing!          somewhat easier   \n",
       "\n",
       "       time_spent   section_attendance                   helpful_materials  \\\n",
       "0        way more    almost every week                Lecture, Assignments   \n",
       "1  about the same  attend occasionally          Assignments, Group Project   \n",
       "2  about the same  attend occasionally                 Assignments, Piazza   \n",
       "3  about the same  attend occasionally    Section - Workbooks, Assignments   \n",
       "4  about the same        do not attend  Assignments, Group Project, Piazza   \n",
       "\n",
       "                                          most_token  \\\n",
       "0  [No, tests, ,, project, based, class, ,, optio...   \n",
       "1  [I, enjoy, learning, how, to, use, pandas, thr...   \n",
       "2                                   [No, attendance]   \n",
       "3  [Topics, about, how, to, handle, several, Pyth...   \n",
       "4  [I, like, the, assignments, ., They, 're, fun,...   \n",
       "\n",
       "                                         least_token  \\\n",
       "0  [Group, projects, can, be, rough, ,, especiall...   \n",
       "1                                     [No, response]   \n",
       "2                                     [No, response]   \n",
       "3                                 [nothing, special]   \n",
       "4                                       [Nothing, !]   \n",
       "\n",
       "                                           most_stop  \\\n",
       "0  [No, tests, ,, project, based, class, ,, optio...   \n",
       "1  [I, enjoy, learning, use, pandas, assignments,...   \n",
       "2                                   [No, attendance]   \n",
       "3           [Topics, handle, several, Python, tools]   \n",
       "4  [I, like, assignments, ., They, 're, fun, good...   \n",
       "\n",
       "                                          least_stop  \\\n",
       "0  [Group, projects, rough, ,, especially, beginn...   \n",
       "1                                     [No, response]   \n",
       "2                                     [No, response]   \n",
       "3                                 [nothing, special]   \n",
       "4                                       [Nothing, !]   \n",
       "\n",
       "                                           most_stem  \\\n",
       "0  [No, test, ,, project, base, class, ,, option,...   \n",
       "1  [I, enjoy, learn, use, panda, assign, group, p...   \n",
       "2                                       [No, attend]   \n",
       "3                [topic, handl, sever, python, tool]   \n",
       "4  [I, like, assign, ., they, 're, fun, good, dif...   \n",
       "\n",
       "                                          least_stem  \n",
       "0  [group, project, rough, ,, especi, begin, sect...  \n",
       "1                                      [No, respons]  \n",
       "2                                      [No, respons]  \n",
       "3                                    [noth, special]  \n",
       "4                                          [noth, !]  "
      ]
     },
     "execution_count": 47,
     "metadata": {},
     "output_type": "execute_result"
    }
   ],
   "source": [
    "df['most_stem'] = df['most_stop'].apply(lambda x: [ps.stem(y) for y in x])\n",
    "df['least_stem'] = df['least_stop'].apply(lambda x: [ps.stem(y) for y in x])\n",
    "df.head()"
   ]
  },
  {
   "cell_type": "markdown",
   "metadata": {
    "slideshow": {
     "slide_type": "slide"
    }
   },
   "source": [
    "#### Step 4: Frequency Distribution\n",
    "\n",
    "It can be helpful to get a sense of which words are most frequent in our dataset."
   ]
  },
  {
   "cell_type": "code",
   "execution_count": 56,
   "metadata": {
    "slideshow": {
     "slide_type": "fragment"
    }
   },
   "outputs": [],
   "source": [
    "# get series of all most and least liked words after stemming\n",
    "# note that \"No Response\" is still being included in the analysis\n",
    "most = df['most_stop'].apply(pd.Series).stack()\n",
    "least = df['least_stem'].apply(pd.Series).stack()"
   ]
  },
  {
   "cell_type": "markdown",
   "metadata": {
    "slideshow": {
     "slide_type": "fragment"
    }
   },
   "source": [
    "`FreqDist` calculates the frequency of each word in the text and we can plot the most frequent words."
   ]
  },
  {
   "cell_type": "code",
   "execution_count": 57,
   "metadata": {
    "slideshow": {
     "slide_type": "fragment"
    }
   },
   "outputs": [],
   "source": [
    "from nltk.probability import FreqDist\n",
    "import string\n",
    "\n",
    "# calculation word frequency\n",
    "fdist_most = FreqDist(most)\n",
    "fdist_least = FreqDist(least)\n",
    "\n",
    "# remove punctuation counts\n",
    "for punc in string.punctuation:\n",
    "    del fdist_most[punc]\n",
    "    del fdist_least[punc]"
   ]
  },
  {
   "cell_type": "code",
   "execution_count": 58,
   "metadata": {
    "scrolled": false
   },
   "outputs": [
    {
     "data": {
      "image/png": "[encoded data removed]",
      "text/plain": [
       "<Figure size 1224x504 with 1 Axes>"
      ]
     },
     "metadata": {
      "image/png": {
       "height": 524,
       "width": 1021
      },
      "needs_background": "light"
     },
     "output_type": "display_data"
    }
   ],
   "source": [
    "# Frequency Distribution Plot - top 20\n",
    "# for words in what students like most\n",
    "fdist_most.plot(20,cumulative=False)"
   ]
  },
  {
   "cell_type": "markdown",
   "metadata": {
    "slideshow": {
     "slide_type": "fragment"
    }
   },
   "source": [
    "# Clicker Question\n",
    "\n",
    "Which word is least common in responses about what students like most about COGS108?\n",
    "\n",
    "A) I  | B) assignments | C) use | D) lot | E) can't be determined from this"
   ]
  },
  {
   "cell_type": "code",
   "execution_count": 59,
   "metadata": {
    "slideshow": {
     "slide_type": "slide"
    }
   },
   "outputs": [
    {
     "data": {
      "image/png": "[encoded data removed]",
      "text/plain": [
       "<Figure size 1224x504 with 1 Axes>"
      ]
     },
     "metadata": {
      "image/png": {
       "height": 486,
       "width": 1021
      },
      "needs_background": "light"
     },
     "output_type": "display_data"
    }
   ],
   "source": [
    "# Frequency Distribution Plot\n",
    "# for what students like least\n",
    "fdist_least.plot(20,cumulative=False,)"
   ]
  },
  {
   "cell_type": "markdown",
   "metadata": {
    "slideshow": {
     "slide_type": "slide"
    }
   },
   "source": [
    "#### Step 5: Sentiment Analysis!\n",
    "\n",
    "**Sentiment Analysis** quantifies the content, idea, beliefs and opinions conveyed in text. \n",
    "\n",
    "Two general approaches:\n",
    "\n",
    "1. **Lexicon-based** - count number of words in a text belonging to each sentiment (positive, negative, happy, angry, etc.)\n",
    "2. **Machine learning-based** - develop a classification model on pre-labeled data\n",
    "\n"
   ]
  },
  {
   "cell_type": "markdown",
   "metadata": {
    "slideshow": {
     "slide_type": "slide"
    }
   },
   "source": [
    "### Sentiment Example\n",
    "\n",
    "To get a measure of overall sentiment in our text, we'll compare our text to the VADER lexicon."
   ]
  },
  {
   "cell_type": "code",
   "execution_count": 60,
   "metadata": {
    "slideshow": {
     "slide_type": "fragment"
    }
   },
   "outputs": [],
   "source": [
    "from nltk.sentiment.vader import SentimentIntensityAnalyzer \n",
    "analyser = SentimentIntensityAnalyzer()"
   ]
  },
  {
   "cell_type": "markdown",
   "metadata": {
    "slideshow": {
     "slide_type": "fragment"
    }
   },
   "source": [
    "VADER handles:\n",
    "\n",
    "- capitalization (great vs GREAT) & punctuation (exclamation makes more positive!)\n",
    "- emojis and emoticons\n",
    "- degree modifiers (extremely good vs. marginally good)\n",
    "- contractions and conjunctions (but signals shift)"
   ]
  },
  {
   "cell_type": "code",
   "execution_count": 61,
   "metadata": {
    "slideshow": {
     "slide_type": "fragment"
    }
   },
   "outputs": [
    {
     "data": {
      "text/plain": [
       "{'compound': 0.7351, 'neg': 0.0, 'neu': 0.326, 'pos': 0.674}"
      ]
     },
     "execution_count": 61,
     "metadata": {},
     "output_type": "execute_result"
    }
   ],
   "source": [
    "analyser.polarity_scores(\"The class is super cool.\")"
   ]
  },
  {
   "cell_type": "code",
   "execution_count": 62,
   "metadata": {
    "slideshow": {
     "slide_type": "fragment"
    }
   },
   "outputs": [
    {
     "data": {
      "text/plain": [
       "{'compound': -0.6259, 'neg': 0.561, 'neu': 0.439, 'pos': 0.0}"
      ]
     },
     "execution_count": 62,
     "metadata": {},
     "output_type": "execute_result"
    }
   ],
   "source": [
    "analyser.polarity_scores(\"The class is not super cool.\")"
   ]
  },
  {
   "cell_type": "code",
   "execution_count": 63,
   "metadata": {
    "slideshow": {
     "slide_type": "fragment"
    }
   },
   "outputs": [
    {
     "data": {
      "text/plain": [
       "{'compound': -0.6597, 'neg': 0.574, 'neu': 0.426, 'pos': 0.0}"
      ]
     },
     "execution_count": 63,
     "metadata": {},
     "output_type": "execute_result"
    }
   ],
   "source": [
    "analyser.polarity_scores(\"The class is NOT super cool!\")"
   ]
  },
  {
   "cell_type": "markdown",
   "metadata": {
    "slideshow": {
     "slide_type": "fragment"
    }
   },
   "source": [
    "`pos` + `neg` + `neu` = 1\n",
    "\n",
    "**`compound`** score - metric that calculates sum of all the lexicon ratings and normalizes between -1(most extreme negative) and +1 (most extreme positive)\n",
    "- positive: `compound` >= 0.05 \n",
    "- neutral: -0.05 < `compound` < 0.05\n",
    "- negative : `compound` <= -0.05"
   ]
  },
  {
   "cell_type": "markdown",
   "metadata": {
    "slideshow": {
     "slide_type": "fragment"
    }
   },
   "source": [
    "# Clicker Question\n",
    "\n",
    "Given the sentence \"I love bike riding through the city every day!\", what would you expect its `compound` score to be? \n",
    "- A) -1\n",
    "- B) -0.7\n",
    "- C) 0\n",
    "- D) 0.7\n",
    "- E) 1"
   ]
  },
  {
   "cell_type": "code",
   "execution_count": 64,
   "metadata": {
    "slideshow": {
     "slide_type": "fragment"
    }
   },
   "outputs": [
    {
     "data": {
      "text/plain": [
       "{'compound': 0.0, 'neg': 0.0, 'neu': 0.0, 'pos': 0.0}"
      ]
     },
     "execution_count": 64,
     "metadata": {},
     "output_type": "execute_result"
    }
   ],
   "source": [
    "analyser.polarity_scores(\"\")"
   ]
  },
  {
   "cell_type": "markdown",
   "metadata": {
    "slideshow": {
     "slide_type": "slide"
    }
   },
   "source": [
    "#### Sentiment Analysis: COGS108 data\n",
    "\n",
    "Here, we will calculate the sentiment of each most liked and least liked student response from the survey."
   ]
  },
  {
   "cell_type": "code",
   "execution_count": 65,
   "metadata": {
    "slideshow": {
     "slide_type": "fragment"
    }
   },
   "outputs": [],
   "source": [
    "# get list of the 'sentences' (responses) from each individual\n",
    "most_list = list(df['enjoyed_most'].values)\n",
    "least_list = list(df['enjoyed_least'].values)"
   ]
  },
  {
   "cell_type": "code",
   "execution_count": 66,
   "metadata": {
    "slideshow": {
     "slide_type": "fragment"
    }
   },
   "outputs": [],
   "source": [
    "# create function that will output dataframe \n",
    "# that stores sentiment information\n",
    "def get_sentiments(input_list):\n",
    "    \n",
    "    output = pd.DataFrame()\n",
    "\n",
    "    for sentence in input_list:\n",
    "        ss = analyser.polarity_scores(sentence)\n",
    "        ss['sentence'] = sentence\n",
    "        output = output.append(ss, ignore_index=True)\n",
    "\n",
    "    return output"
   ]
  },
  {
   "cell_type": "code",
   "execution_count": 67,
   "metadata": {
    "scrolled": false,
    "slideshow": {
     "slide_type": "fragment"
    }
   },
   "outputs": [],
   "source": [
    "# get sentiment measures\n",
    "least_sentiments = get_sentiments(least_list)\n",
    "most_sentiments = get_sentiments(most_list)"
   ]
  },
  {
   "cell_type": "markdown",
   "metadata": {
    "slideshow": {
     "slide_type": "slide"
    }
   },
   "source": [
    "#### Sentiment Analysis: COGS108 data output\n",
    "\n",
    "After calculating the sentiment of each response, we can look at the output of each."
   ]
  },
  {
   "cell_type": "code",
   "execution_count": 68,
   "metadata": {
    "slideshow": {
     "slide_type": "fragment"
    }
   },
   "outputs": [
    {
     "data": {
      "text/html": [
       "<div>\n",
       "<style scoped>\n",
       "    .dataframe tbody tr th:only-of-type {\n",
       "        vertical-align: middle;\n",
       "    }\n",
       "\n",
       "    .dataframe tbody tr th {\n",
       "        vertical-align: top;\n",
       "    }\n",
       "\n",
       "    .dataframe thead th {\n",
       "        text-align: right;\n",
       "    }\n",
       "</style>\n",
       "<table border=\"1\" class=\"dataframe\">\n",
       "  <thead>\n",
       "    <tr style=\"text-align: right;\">\n",
       "      <th></th>\n",
       "      <th>compound</th>\n",
       "      <th>neg</th>\n",
       "      <th>neu</th>\n",
       "      <th>pos</th>\n",
       "      <th>sentence</th>\n",
       "    </tr>\n",
       "  </thead>\n",
       "  <tbody>\n",
       "    <tr>\n",
       "      <th>0</th>\n",
       "      <td>-0.2960</td>\n",
       "      <td>0.155</td>\n",
       "      <td>0.845</td>\n",
       "      <td>0.0</td>\n",
       "      <td>Group projects can be rough, especially the be...</td>\n",
       "    </tr>\n",
       "    <tr>\n",
       "      <th>1</th>\n",
       "      <td>-0.2960</td>\n",
       "      <td>0.688</td>\n",
       "      <td>0.312</td>\n",
       "      <td>0.0</td>\n",
       "      <td>No response</td>\n",
       "    </tr>\n",
       "    <tr>\n",
       "      <th>2</th>\n",
       "      <td>-0.2960</td>\n",
       "      <td>0.688</td>\n",
       "      <td>0.312</td>\n",
       "      <td>0.0</td>\n",
       "      <td>No response</td>\n",
       "    </tr>\n",
       "    <tr>\n",
       "      <th>3</th>\n",
       "      <td>-0.3089</td>\n",
       "      <td>0.693</td>\n",
       "      <td>0.307</td>\n",
       "      <td>0.0</td>\n",
       "      <td>nothing special</td>\n",
       "    </tr>\n",
       "    <tr>\n",
       "      <th>4</th>\n",
       "      <td>0.0000</td>\n",
       "      <td>0.000</td>\n",
       "      <td>1.000</td>\n",
       "      <td>0.0</td>\n",
       "      <td>Nothing!</td>\n",
       "    </tr>\n",
       "    <tr>\n",
       "      <th>5</th>\n",
       "      <td>-0.2960</td>\n",
       "      <td>0.688</td>\n",
       "      <td>0.312</td>\n",
       "      <td>0.0</td>\n",
       "      <td>No response</td>\n",
       "    </tr>\n",
       "    <tr>\n",
       "      <th>6</th>\n",
       "      <td>0.0000</td>\n",
       "      <td>0.000</td>\n",
       "      <td>1.000</td>\n",
       "      <td>0.0</td>\n",
       "      <td>Rushed past a lot of coding syntax. Too much e...</td>\n",
       "    </tr>\n",
       "    <tr>\n",
       "      <th>7</th>\n",
       "      <td>0.0000</td>\n",
       "      <td>0.000</td>\n",
       "      <td>1.000</td>\n",
       "      <td>0.0</td>\n",
       "      <td>Sometimes the class is too slow for case study</td>\n",
       "    </tr>\n",
       "    <tr>\n",
       "      <th>8</th>\n",
       "      <td>0.0000</td>\n",
       "      <td>0.000</td>\n",
       "      <td>1.000</td>\n",
       "      <td>0.0</td>\n",
       "      <td>N/a</td>\n",
       "    </tr>\n",
       "    <tr>\n",
       "      <th>9</th>\n",
       "      <td>-0.3182</td>\n",
       "      <td>0.173</td>\n",
       "      <td>0.827</td>\n",
       "      <td>0.0</td>\n",
       "      <td>Having to do a lot of research and googling; t...</td>\n",
       "    </tr>\n",
       "  </tbody>\n",
       "</table>\n",
       "</div>"
      ],
      "text/plain": [
       "   compound    neg    neu  pos  \\\n",
       "0   -0.2960  0.155  0.845  0.0   \n",
       "1   -0.2960  0.688  0.312  0.0   \n",
       "2   -0.2960  0.688  0.312  0.0   \n",
       "3   -0.3089  0.693  0.307  0.0   \n",
       "4    0.0000  0.000  1.000  0.0   \n",
       "5   -0.2960  0.688  0.312  0.0   \n",
       "6    0.0000  0.000  1.000  0.0   \n",
       "7    0.0000  0.000  1.000  0.0   \n",
       "8    0.0000  0.000  1.000  0.0   \n",
       "9   -0.3182  0.173  0.827  0.0   \n",
       "\n",
       "                                            sentence  \n",
       "0  Group projects can be rough, especially the be...  \n",
       "1                                        No response  \n",
       "2                                        No response  \n",
       "3                                   nothing special   \n",
       "4                                           Nothing!  \n",
       "5                                        No response  \n",
       "6  Rushed past a lot of coding syntax. Too much e...  \n",
       "7     Sometimes the class is too slow for case study  \n",
       "8                                                N/a  \n",
       "9  Having to do a lot of research and googling; t...  "
      ]
     },
     "execution_count": 68,
     "metadata": {},
     "output_type": "execute_result"
    }
   ],
   "source": [
    "# take a look at the output\n",
    "least_sentiments.head(10)"
   ]
  },
  {
   "cell_type": "code",
   "execution_count": 69,
   "metadata": {
    "scrolled": true,
    "slideshow": {
     "slide_type": "fragment"
    }
   },
   "outputs": [
    {
     "data": {
      "text/html": [
       "<div>\n",
       "<style scoped>\n",
       "    .dataframe tbody tr th:only-of-type {\n",
       "        vertical-align: middle;\n",
       "    }\n",
       "\n",
       "    .dataframe tbody tr th {\n",
       "        vertical-align: top;\n",
       "    }\n",
       "\n",
       "    .dataframe thead th {\n",
       "        text-align: right;\n",
       "    }\n",
       "</style>\n",
       "<table border=\"1\" class=\"dataframe\">\n",
       "  <thead>\n",
       "    <tr style=\"text-align: right;\">\n",
       "      <th></th>\n",
       "      <th>compound</th>\n",
       "      <th>neg</th>\n",
       "      <th>neu</th>\n",
       "      <th>pos</th>\n",
       "      <th>sentence</th>\n",
       "    </tr>\n",
       "  </thead>\n",
       "  <tbody>\n",
       "    <tr>\n",
       "      <th>0</th>\n",
       "      <td>-0.2960</td>\n",
       "      <td>0.268</td>\n",
       "      <td>0.732</td>\n",
       "      <td>0.000</td>\n",
       "      <td>No tests, project based class, optional lectur...</td>\n",
       "    </tr>\n",
       "    <tr>\n",
       "      <th>1</th>\n",
       "      <td>0.4939</td>\n",
       "      <td>0.000</td>\n",
       "      <td>0.849</td>\n",
       "      <td>0.151</td>\n",
       "      <td>I enjoy learning how to use pandas through the...</td>\n",
       "    </tr>\n",
       "    <tr>\n",
       "      <th>2</th>\n",
       "      <td>-0.2960</td>\n",
       "      <td>0.688</td>\n",
       "      <td>0.312</td>\n",
       "      <td>0.000</td>\n",
       "      <td>No attendance</td>\n",
       "    </tr>\n",
       "    <tr>\n",
       "      <th>3</th>\n",
       "      <td>0.0000</td>\n",
       "      <td>0.000</td>\n",
       "      <td>1.000</td>\n",
       "      <td>0.000</td>\n",
       "      <td>Topics about how to handle several Python tools</td>\n",
       "    </tr>\n",
       "    <tr>\n",
       "      <th>4</th>\n",
       "      <td>0.9874</td>\n",
       "      <td>0.075</td>\n",
       "      <td>0.541</td>\n",
       "      <td>0.384</td>\n",
       "      <td>I like the assignments. They're fun and have a...</td>\n",
       "    </tr>\n",
       "    <tr>\n",
       "      <th>5</th>\n",
       "      <td>-0.2960</td>\n",
       "      <td>0.688</td>\n",
       "      <td>0.312</td>\n",
       "      <td>0.000</td>\n",
       "      <td>No response</td>\n",
       "    </tr>\n",
       "    <tr>\n",
       "      <th>6</th>\n",
       "      <td>0.0000</td>\n",
       "      <td>0.000</td>\n",
       "      <td>1.000</td>\n",
       "      <td>0.000</td>\n",
       "      <td>Learning Python &amp; Extracting Data from websites</td>\n",
       "    </tr>\n",
       "    <tr>\n",
       "      <th>7</th>\n",
       "      <td>0.0000</td>\n",
       "      <td>0.000</td>\n",
       "      <td>1.000</td>\n",
       "      <td>0.000</td>\n",
       "      <td>Learning about Jupiter notebook and different ...</td>\n",
       "    </tr>\n",
       "    <tr>\n",
       "      <th>8</th>\n",
       "      <td>-0.4019</td>\n",
       "      <td>0.278</td>\n",
       "      <td>0.722</td>\n",
       "      <td>0.000</td>\n",
       "      <td>Detailed examples of working through data scie...</td>\n",
       "    </tr>\n",
       "    <tr>\n",
       "      <th>9</th>\n",
       "      <td>0.0000</td>\n",
       "      <td>0.000</td>\n",
       "      <td>1.000</td>\n",
       "      <td>0.000</td>\n",
       "      <td>Brainstorming all the different variables that...</td>\n",
       "    </tr>\n",
       "  </tbody>\n",
       "</table>\n",
       "</div>"
      ],
      "text/plain": [
       "   compound    neg    neu    pos  \\\n",
       "0   -0.2960  0.268  0.732  0.000   \n",
       "1    0.4939  0.000  0.849  0.151   \n",
       "2   -0.2960  0.688  0.312  0.000   \n",
       "3    0.0000  0.000  1.000  0.000   \n",
       "4    0.9874  0.075  0.541  0.384   \n",
       "5   -0.2960  0.688  0.312  0.000   \n",
       "6    0.0000  0.000  1.000  0.000   \n",
       "7    0.0000  0.000  1.000  0.000   \n",
       "8   -0.4019  0.278  0.722  0.000   \n",
       "9    0.0000  0.000  1.000  0.000   \n",
       "\n",
       "                                            sentence  \n",
       "0  No tests, project based class, optional lectur...  \n",
       "1  I enjoy learning how to use pandas through the...  \n",
       "2                                      No attendance  \n",
       "3    Topics about how to handle several Python tools  \n",
       "4  I like the assignments. They're fun and have a...  \n",
       "5                                        No response  \n",
       "6    Learning Python & Extracting Data from websites  \n",
       "7  Learning about Jupiter notebook and different ...  \n",
       "8  Detailed examples of working through data scie...  \n",
       "9  Brainstorming all the different variables that...  "
      ]
     },
     "execution_count": 69,
     "metadata": {},
     "output_type": "execute_result"
    }
   ],
   "source": [
    "# take a look at the output\n",
    "most_sentiments.head(10)"
   ]
  },
  {
   "cell_type": "markdown",
   "metadata": {
    "slideshow": {
     "slide_type": "slide"
    }
   },
   "source": [
    "#### Let's deal with those `No response` values\n",
    "\n",
    "We've left them in there long enough. Let's remove the 'No response' values before we look at any overall patterns."
   ]
  },
  {
   "cell_type": "code",
   "execution_count": 71,
   "metadata": {
    "slideshow": {
     "slide_type": "fragment"
    }
   },
   "outputs": [],
   "source": [
    "most_sentiments = most_sentiments[most_sentiments['sentence'] != 'No response']\n",
    "least_sentiments = least_sentiments[least_sentiments['sentence'] != 'No response']"
   ]
  },
  {
   "cell_type": "markdown",
   "metadata": {
    "slideshow": {
     "slide_type": "slide"
    }
   },
   "source": [
    "#### Sentiment Analysis: COGS108 data - `describe`\n",
    "\n",
    "To get an overall sense of the values stored in each of these dataframes, we can use `describe`."
   ]
  },
  {
   "cell_type": "code",
   "execution_count": 72,
   "metadata": {
    "scrolled": true,
    "slideshow": {
     "slide_type": "fragment"
    }
   },
   "outputs": [
    {
     "data": {
      "text/html": [
       "<div>\n",
       "<style scoped>\n",
       "    .dataframe tbody tr th:only-of-type {\n",
       "        vertical-align: middle;\n",
       "    }\n",
       "\n",
       "    .dataframe tbody tr th {\n",
       "        vertical-align: top;\n",
       "    }\n",
       "\n",
       "    .dataframe thead th {\n",
       "        text-align: right;\n",
       "    }\n",
       "</style>\n",
       "<table border=\"1\" class=\"dataframe\">\n",
       "  <thead>\n",
       "    <tr style=\"text-align: right;\">\n",
       "      <th></th>\n",
       "      <th>compound</th>\n",
       "      <th>neg</th>\n",
       "      <th>neu</th>\n",
       "      <th>pos</th>\n",
       "    </tr>\n",
       "  </thead>\n",
       "  <tbody>\n",
       "    <tr>\n",
       "      <th>count</th>\n",
       "      <td>326.000000</td>\n",
       "      <td>326.000000</td>\n",
       "      <td>326.000000</td>\n",
       "      <td>326.000000</td>\n",
       "    </tr>\n",
       "    <tr>\n",
       "      <th>mean</th>\n",
       "      <td>0.340390</td>\n",
       "      <td>0.021046</td>\n",
       "      <td>0.781598</td>\n",
       "      <td>0.197365</td>\n",
       "    </tr>\n",
       "    <tr>\n",
       "      <th>std</th>\n",
       "      <td>0.344453</td>\n",
       "      <td>0.094031</td>\n",
       "      <td>0.207631</td>\n",
       "      <td>0.199976</td>\n",
       "    </tr>\n",
       "    <tr>\n",
       "      <th>min</th>\n",
       "      <td>-0.585900</td>\n",
       "      <td>0.000000</td>\n",
       "      <td>0.000000</td>\n",
       "      <td>0.000000</td>\n",
       "    </tr>\n",
       "    <tr>\n",
       "      <th>25%</th>\n",
       "      <td>0.000000</td>\n",
       "      <td>0.000000</td>\n",
       "      <td>0.663250</td>\n",
       "      <td>0.000000</td>\n",
       "    </tr>\n",
       "    <tr>\n",
       "      <th>50%</th>\n",
       "      <td>0.401900</td>\n",
       "      <td>0.000000</td>\n",
       "      <td>0.786500</td>\n",
       "      <td>0.175000</td>\n",
       "    </tr>\n",
       "    <tr>\n",
       "      <th>75%</th>\n",
       "      <td>0.636900</td>\n",
       "      <td>0.000000</td>\n",
       "      <td>1.000000</td>\n",
       "      <td>0.320000</td>\n",
       "    </tr>\n",
       "    <tr>\n",
       "      <th>max</th>\n",
       "      <td>0.987400</td>\n",
       "      <td>0.714000</td>\n",
       "      <td>1.000000</td>\n",
       "      <td>1.000000</td>\n",
       "    </tr>\n",
       "  </tbody>\n",
       "</table>\n",
       "</div>"
      ],
      "text/plain": [
       "         compound         neg         neu         pos\n",
       "count  326.000000  326.000000  326.000000  326.000000\n",
       "mean     0.340390    0.021046    0.781598    0.197365\n",
       "std      0.344453    0.094031    0.207631    0.199976\n",
       "min     -0.585900    0.000000    0.000000    0.000000\n",
       "25%      0.000000    0.000000    0.663250    0.000000\n",
       "50%      0.401900    0.000000    0.786500    0.175000\n",
       "75%      0.636900    0.000000    1.000000    0.320000\n",
       "max      0.987400    0.714000    1.000000    1.000000"
      ]
     },
     "execution_count": 72,
     "metadata": {},
     "output_type": "execute_result"
    }
   ],
   "source": [
    "most_sentiments.describe()"
   ]
  },
  {
   "cell_type": "code",
   "execution_count": 73,
   "metadata": {
    "scrolled": false,
    "slideshow": {
     "slide_type": "fragment"
    }
   },
   "outputs": [
    {
     "data": {
      "text/html": [
       "<div>\n",
       "<style scoped>\n",
       "    .dataframe tbody tr th:only-of-type {\n",
       "        vertical-align: middle;\n",
       "    }\n",
       "\n",
       "    .dataframe tbody tr th {\n",
       "        vertical-align: top;\n",
       "    }\n",
       "\n",
       "    .dataframe thead th {\n",
       "        text-align: right;\n",
       "    }\n",
       "</style>\n",
       "<table border=\"1\" class=\"dataframe\">\n",
       "  <thead>\n",
       "    <tr style=\"text-align: right;\">\n",
       "      <th></th>\n",
       "      <th>compound</th>\n",
       "      <th>neg</th>\n",
       "      <th>neu</th>\n",
       "      <th>pos</th>\n",
       "    </tr>\n",
       "  </thead>\n",
       "  <tbody>\n",
       "    <tr>\n",
       "      <th>count</th>\n",
       "      <td>306.000000</td>\n",
       "      <td>306.000000</td>\n",
       "      <td>306.000000</td>\n",
       "      <td>306.000000</td>\n",
       "    </tr>\n",
       "    <tr>\n",
       "      <th>mean</th>\n",
       "      <td>-0.006080</td>\n",
       "      <td>0.087748</td>\n",
       "      <td>0.845258</td>\n",
       "      <td>0.067020</td>\n",
       "    </tr>\n",
       "    <tr>\n",
       "      <th>std</th>\n",
       "      <td>0.340386</td>\n",
       "      <td>0.144644</td>\n",
       "      <td>0.189149</td>\n",
       "      <td>0.138658</td>\n",
       "    </tr>\n",
       "    <tr>\n",
       "      <th>min</th>\n",
       "      <td>-0.922700</td>\n",
       "      <td>0.000000</td>\n",
       "      <td>0.000000</td>\n",
       "      <td>0.000000</td>\n",
       "    </tr>\n",
       "    <tr>\n",
       "      <th>25%</th>\n",
       "      <td>-0.274925</td>\n",
       "      <td>0.000000</td>\n",
       "      <td>0.755500</td>\n",
       "      <td>0.000000</td>\n",
       "    </tr>\n",
       "    <tr>\n",
       "      <th>50%</th>\n",
       "      <td>0.000000</td>\n",
       "      <td>0.000000</td>\n",
       "      <td>0.887500</td>\n",
       "      <td>0.000000</td>\n",
       "    </tr>\n",
       "    <tr>\n",
       "      <th>75%</th>\n",
       "      <td>0.000000</td>\n",
       "      <td>0.131250</td>\n",
       "      <td>1.000000</td>\n",
       "      <td>0.083000</td>\n",
       "    </tr>\n",
       "    <tr>\n",
       "      <th>max</th>\n",
       "      <td>0.988100</td>\n",
       "      <td>1.000000</td>\n",
       "      <td>1.000000</td>\n",
       "      <td>1.000000</td>\n",
       "    </tr>\n",
       "  </tbody>\n",
       "</table>\n",
       "</div>"
      ],
      "text/plain": [
       "         compound         neg         neu         pos\n",
       "count  306.000000  306.000000  306.000000  306.000000\n",
       "mean    -0.006080    0.087748    0.845258    0.067020\n",
       "std      0.340386    0.144644    0.189149    0.138658\n",
       "min     -0.922700    0.000000    0.000000    0.000000\n",
       "25%     -0.274925    0.000000    0.755500    0.000000\n",
       "50%      0.000000    0.000000    0.887500    0.000000\n",
       "75%      0.000000    0.131250    1.000000    0.083000\n",
       "max      0.988100    1.000000    1.000000    1.000000"
      ]
     },
     "execution_count": 73,
     "metadata": {},
     "output_type": "execute_result"
    }
   ],
   "source": [
    "least_sentiments.describe()"
   ]
  },
  {
   "cell_type": "markdown",
   "metadata": {
    "slideshow": {
     "slide_type": "slide"
    }
   },
   "source": [
    "#### Sentiment Analysis: COGS108 data - plotting\n",
    "\n",
    "We can compare the distribution of the `compound` metric between the two analyses."
   ]
  },
  {
   "cell_type": "code",
   "execution_count": 74,
   "metadata": {
    "scrolled": true,
    "slideshow": {
     "slide_type": "fragment"
    }
   },
   "outputs": [
    {
     "data": {
      "image/png": "[encoded data removed]",
      "text/plain": [
       "<Figure size 1224x504 with 1 Axes>"
      ]
     },
     "metadata": {
      "image/png": {
       "height": 438,
       "width": 1043
      },
      "needs_background": "light"
     },
     "output_type": "display_data"
    }
   ],
   "source": [
    "most_sentiments['compound'].plot.density(label='most')\n",
    "least_sentiments['compound'].plot.density(label='least')\n",
    "plt.legend()\n",
    "plt.xlabel('Compound Sentiment Scores')\n",
    "plt.xlim(-1,1);"
   ]
  },
  {
   "cell_type": "code",
   "execution_count": 75,
   "metadata": {
    "scrolled": false,
    "slideshow": {
     "slide_type": "slide"
    }
   },
   "outputs": [],
   "source": [
    "# include label for boxplot\n",
    "most_sentiments['which'] = 'most'\n",
    "least_sentiments['which'] = 'least'\n",
    "# concatenate data frames together\n",
    "compound_out = pd.concat([most_sentiments, least_sentiments])"
   ]
  },
  {
   "cell_type": "code",
   "execution_count": 76,
   "metadata": {},
   "outputs": [
    {
     "data": {
      "image/png": "[encoded data removed]",
      "text/plain": [
       "<Figure size 1224x504 with 1 Axes>"
      ]
     },
     "metadata": {
      "image/png": {
       "height": 438,
       "width": 1040
      },
      "needs_background": "light"
     },
     "output_type": "display_data"
    }
   ],
   "source": [
    "# plot compound by resonse type\n",
    "sns.boxplot(data = compound_out, x = 'which', y = 'compound')\n",
    "plt.xlabel('response');"
   ]
  },
  {
   "cell_type": "markdown",
   "metadata": {
    "slideshow": {
     "slide_type": "fragment"
    }
   },
   "source": [
    "Probably unsurprisingly, the overall sentiment of what students like tends to be more positive than what students like less. \n",
    "\n",
    "Probably not surprising given the data and question on the survey. But, let's dig deeper into these data moving beyond sentiment analysis..."
   ]
  },
  {
   "cell_type": "markdown",
   "metadata": {
    "slideshow": {
     "slide_type": "slide"
    }
   },
   "source": [
    "## TF-IDF\n",
    "\n",
    "Term Frequency - Inverse Document Frequency (**TF-IDF**) sets out to identify the tokens most unique to your document of interest (relative to all documents in your corpus). "
   ]
  },
  {
   "cell_type": "markdown",
   "metadata": {
    "slideshow": {
     "slide_type": "fragment"
    }
   },
   "source": [
    "**Term Frequency (TF)** - counts the number of words (tokens) occurring in each document.\n",
    "\n",
    "**Inverse Document Frequency (IDF)** - weights the word by their relative frequency across documents. "
   ]
  },
  {
   "cell_type": "markdown",
   "metadata": {
    "slideshow": {
     "slide_type": "fragment"
    }
   },
   "source": [
    "$$IDF_{word} = log(\\frac{\\# documents}{\\# \\ documents\\_containing\\_word})$$"
   ]
  },
  {
   "cell_type": "markdown",
   "metadata": {
    "slideshow": {
     "slide_type": "fragment"
    }
   },
   "source": [
    "$$TF-IDF = TF \\times IDF$$"
   ]
  },
  {
   "cell_type": "markdown",
   "metadata": {
    "slideshow": {
     "slide_type": "fragment"
    }
   },
   "source": [
    "words with a high TF-IDF are those with high frequency in one document & relatively low frequency in other documents"
   ]
  },
  {
   "cell_type": "markdown",
   "metadata": {
    "slideshow": {
     "slide_type": "slide"
    }
   },
   "source": [
    "For our purposes, our **corpus** will be students' responses to what they like most and least about COGS108.\n",
    "\n",
    "We'll treat this as **two separate documents**:\n",
    "1. What students like most\n",
    "2. What students like least"
   ]
  },
  {
   "cell_type": "markdown",
   "metadata": {
    "slideshow": {
     "slide_type": "slide"
    }
   },
   "source": [
    "# Clicker Question\n",
    "\n",
    "**Hypothesis Generation**\n",
    "\n",
    "What do you think is the word most unique to the question \"What have you enjoyed MOST about COGS108 so far?\" \n",
    "\n",
    "- A) enjoyed\n",
    "- B) assignments\n",
    "- C) group\n",
    "- D) response\n",
    "- E) fast"
   ]
  },
  {
   "cell_type": "markdown",
   "metadata": {
    "slideshow": {
     "slide_type": "slide"
    }
   },
   "source": [
    "# Clicker Question\n",
    "\n",
    "**Hypothesis Generation**\n",
    "\n",
    "\n",
    "What do you think is the word most unique to the question \"What have you enjoyed LEAST about COGS108 so far?\" \n",
    "\n",
    "- A) enjoyed\n",
    "- B) assignments\n",
    "- C) group\n",
    "- D) response\n",
    "- E) fast"
   ]
  },
  {
   "cell_type": "markdown",
   "metadata": {
    "slideshow": {
     "slide_type": "slide"
    }
   },
   "source": [
    "### Bag of Words (BoW) approach\n",
    "\n",
    "Converts the text into a co-occurrence matrix across documents within the corpus."
   ]
  },
  {
   "cell_type": "markdown",
   "metadata": {
    "slideshow": {
     "slide_type": "fragment"
    }
   },
   "source": [
    "To do this, let's get our text ready.\n",
    "\n",
    "We're going to make sure all our words are lower case, remove punctuation from each, and then provide the text (`corpus`) to `TfidfVectorizer`."
   ]
  },
  {
   "cell_type": "code",
   "execution_count": 83,
   "metadata": {
    "slideshow": {
     "slide_type": "fragment"
    }
   },
   "outputs": [],
   "source": [
    "import string \n",
    "\n",
    "# lowercase text\n",
    "least = list(map(str.lower, least_list))\n",
    "most = list(map(str.lower, most_list))\n",
    "\n",
    "# remove punctuation\n",
    "for c in string.punctuation:\n",
    "    least=str(least).replace(c,\"\")\n",
    "    most=str(most).replace(c,\"\")\n",
    "\n",
    "# get list of two documents together\n",
    "corpus = [str(least),str(most)]"
   ]
  },
  {
   "cell_type": "markdown",
   "metadata": {
    "slideshow": {
     "slide_type": "slide"
    }
   },
   "source": [
    "### Calculate TF-IDF\n",
    "\n",
    "With our text ready for analysis, it's time to calculate TF-IDF"
   ]
  },
  {
   "cell_type": "markdown",
   "metadata": {
    "slideshow": {
     "slide_type": "fragment"
    }
   },
   "source": [
    "To start our TF-IDF analysis, we'll first **create a `TfidfVectorizer` object to transform our text data into vectors.**"
   ]
  },
  {
   "cell_type": "code",
   "execution_count": 80,
   "metadata": {
    "slideshow": {
     "slide_type": "fragment"
    }
   },
   "outputs": [],
   "source": [
    "from sklearn.feature_extraction.text import TfidfVectorizer"
   ]
  },
  {
   "cell_type": "code",
   "execution_count": 81,
   "metadata": {
    "slideshow": {
     "slide_type": "fragment"
    }
   },
   "outputs": [],
   "source": [
    "# create vectorizer\n",
    "tfidf = TfidfVectorizer(sublinear_tf=True,\n",
    "                        analyzer='word',\n",
    "                        max_features=2000,\n",
    "                        tokenizer=word_tokenize,\n",
    "                        stop_words=stop_words)"
   ]
  },
  {
   "cell_type": "markdown",
   "metadata": {
    "slideshow": {
     "slide_type": "slide"
    }
   },
   "source": [
    "#### TF-IDF: COGS108 data - calculation\n",
    "\n",
    "Here, we use our vectorizer to calculate TF-IDF across the words in our word matrix."
   ]
  },
  {
   "cell_type": "code",
   "execution_count": 84,
   "metadata": {
    "slideshow": {
     "slide_type": "fragment"
    }
   },
   "outputs": [
    {
     "name": "stderr",
     "output_type": "stream",
     "text": [
      "/anaconda3/lib/python3.6/site-packages/sklearn/feature_extraction/text.py:300: UserWarning: Your stop_words may be inconsistent with your preprocessing. Tokenizing the stop words generated tokens [\"'d\", \"'ll\", \"'re\", \"'s\", \"'ve\", 'could', 'might', 'must', \"n't\", 'need', 'sha', 'wo', 'would'] not in stop_words.\n",
      "  'stop_words.' % sorted(inconsistent))\n"
     ]
    }
   ],
   "source": [
    "# calculate TF-IDF\n",
    "cogs_tfidf = pd.DataFrame(tfidf.fit_transform(corpus).toarray())\n",
    "cogs_tfidf.columns = tfidf.get_feature_names()\n",
    "cogs_tfidf.rename(index={0:'least',1:'most'}, inplace=True)"
   ]
  },
  {
   "cell_type": "markdown",
   "metadata": {
    "slideshow": {
     "slide_type": "slide"
    }
   },
   "source": [
    "#### TF-IDF: COGS108 data - output\n",
    "\n",
    "If we just want to look at the word most uniuqe in each document..."
   ]
  },
  {
   "cell_type": "code",
   "execution_count": 85,
   "metadata": {
    "scrolled": true,
    "slideshow": {
     "slide_type": "fragment"
    }
   },
   "outputs": [
    {
     "data": {
      "text/plain": [
       "least      group\n",
       "most     enjoyed\n",
       "dtype: object"
      ]
     },
     "execution_count": 85,
     "metadata": {},
     "output_type": "execute_result"
    }
   ],
   "source": [
    "most_unique = cogs_tfidf.idxmax(axis=1) \n",
    "most_unique"
   ]
  },
  {
   "cell_type": "markdown",
   "metadata": {
    "slideshow": {
     "slide_type": "fragment"
    }
   },
   "source": [
    "Alternatively, we can sort by the set or words most unique to each document:"
   ]
  },
  {
   "cell_type": "code",
   "execution_count": 86,
   "metadata": {
    "slideshow": {
     "slide_type": "fragment"
    }
   },
   "outputs": [
    {
     "data": {
      "text/html": [
       "<div>\n",
       "<style scoped>\n",
       "    .dataframe tbody tr th:only-of-type {\n",
       "        vertical-align: middle;\n",
       "    }\n",
       "\n",
       "    .dataframe tbody tr th {\n",
       "        vertical-align: top;\n",
       "    }\n",
       "\n",
       "    .dataframe thead th {\n",
       "        text-align: right;\n",
       "    }\n",
       "</style>\n",
       "<table border=\"1\" class=\"dataframe\">\n",
       "  <thead>\n",
       "    <tr style=\"text-align: right;\">\n",
       "      <th></th>\n",
       "      <th>enjoyed</th>\n",
       "      <th>assignments</th>\n",
       "      <th>data</th>\n",
       "      <th>python</th>\n",
       "      <th>learning</th>\n",
       "      <th>response</th>\n",
       "      <th>project</th>\n",
       "      <th>like</th>\n",
       "      <th>science</th>\n",
       "      <th>really</th>\n",
       "      <th>...</th>\n",
       "      <th>incorrectly</th>\n",
       "      <th>independent</th>\n",
       "      <th>indifferent</th>\n",
       "      <th>industry</th>\n",
       "      <th>instead</th>\n",
       "      <th>instruction</th>\n",
       "      <th>insufficient</th>\n",
       "      <th>intended</th>\n",
       "      <th>intentions</th>\n",
       "      <th>last</th>\n",
       "    </tr>\n",
       "  </thead>\n",
       "  <tbody>\n",
       "    <tr>\n",
       "      <th>least</th>\n",
       "      <td>0.000000</td>\n",
       "      <td>0.074855</td>\n",
       "      <td>0.064418</td>\n",
       "      <td>0.071324</td>\n",
       "      <td>0.038971</td>\n",
       "      <td>0.087690</td>\n",
       "      <td>0.086175</td>\n",
       "      <td>0.082359</td>\n",
       "      <td>0.048110</td>\n",
       "      <td>0.071324</td>\n",
       "      <td>...</td>\n",
       "      <td>0.038863</td>\n",
       "      <td>0.022953</td>\n",
       "      <td>0.022953</td>\n",
       "      <td>0.022953</td>\n",
       "      <td>0.038863</td>\n",
       "      <td>0.038863</td>\n",
       "      <td>0.022953</td>\n",
       "      <td>0.022953</td>\n",
       "      <td>0.022953</td>\n",
       "      <td>0.022953</td>\n",
       "    </tr>\n",
       "    <tr>\n",
       "      <th>most</th>\n",
       "      <td>0.117171</td>\n",
       "      <td>0.103821</td>\n",
       "      <td>0.101885</td>\n",
       "      <td>0.097289</td>\n",
       "      <td>0.095468</td>\n",
       "      <td>0.095147</td>\n",
       "      <td>0.091589</td>\n",
       "      <td>0.089078</td>\n",
       "      <td>0.088161</td>\n",
       "      <td>0.086180</td>\n",
       "      <td>...</td>\n",
       "      <td>0.000000</td>\n",
       "      <td>0.000000</td>\n",
       "      <td>0.000000</td>\n",
       "      <td>0.000000</td>\n",
       "      <td>0.000000</td>\n",
       "      <td>0.000000</td>\n",
       "      <td>0.000000</td>\n",
       "      <td>0.000000</td>\n",
       "      <td>0.000000</td>\n",
       "      <td>0.000000</td>\n",
       "    </tr>\n",
       "  </tbody>\n",
       "</table>\n",
       "<p>2 rows × 1181 columns</p>\n",
       "</div>"
      ],
      "text/plain": [
       "        enjoyed  assignments      data    python  learning  response  \\\n",
       "least  0.000000     0.074855  0.064418  0.071324  0.038971  0.087690   \n",
       "most   0.117171     0.103821  0.101885  0.097289  0.095468  0.095147   \n",
       "\n",
       "        project      like   science    really  ...  incorrectly  independent  \\\n",
       "least  0.086175  0.082359  0.048110  0.071324  ...     0.038863     0.022953   \n",
       "most   0.091589  0.089078  0.088161  0.086180  ...     0.000000     0.000000   \n",
       "\n",
       "       indifferent  industry   instead  instruction  insufficient  intended  \\\n",
       "least     0.022953  0.022953  0.038863     0.038863      0.022953  0.022953   \n",
       "most      0.000000  0.000000  0.000000     0.000000      0.000000  0.000000   \n",
       "\n",
       "       intentions      last  \n",
       "least    0.022953  0.022953  \n",
       "most     0.000000  0.000000  \n",
       "\n",
       "[2 rows x 1181 columns]"
      ]
     },
     "execution_count": 86,
     "metadata": {},
     "output_type": "execute_result"
    }
   ],
   "source": [
    "cogs_tfidf.sort_values(by='most', axis=1, ascending=False)"
   ]
  },
  {
   "cell_type": "code",
   "execution_count": 87,
   "metadata": {
    "slideshow": {
     "slide_type": "fragment"
    }
   },
   "outputs": [
    {
     "data": {
      "text/html": [
       "<div>\n",
       "<style scoped>\n",
       "    .dataframe tbody tr th:only-of-type {\n",
       "        vertical-align: middle;\n",
       "    }\n",
       "\n",
       "    .dataframe tbody tr th {\n",
       "        vertical-align: top;\n",
       "    }\n",
       "\n",
       "    .dataframe thead th {\n",
       "        text-align: right;\n",
       "    }\n",
       "</style>\n",
       "<table border=\"1\" class=\"dataframe\">\n",
       "  <thead>\n",
       "    <tr style=\"text-align: right;\">\n",
       "      <th></th>\n",
       "      <th>group</th>\n",
       "      <th>response</th>\n",
       "      <th>fast</th>\n",
       "      <th>project</th>\n",
       "      <th>like</th>\n",
       "      <th>little</th>\n",
       "      <th>dont</th>\n",
       "      <th>none</th>\n",
       "      <th>lost</th>\n",
       "      <th>assignments</th>\n",
       "      <th>...</th>\n",
       "      <th>programing</th>\n",
       "      <th>discussing</th>\n",
       "      <th>professors</th>\n",
       "      <th>profellis</th>\n",
       "      <th>prof</th>\n",
       "      <th>produce</th>\n",
       "      <th>processing</th>\n",
       "      <th>doable</th>\n",
       "      <th>dr</th>\n",
       "      <th>dataset</th>\n",
       "    </tr>\n",
       "  </thead>\n",
       "  <tbody>\n",
       "    <tr>\n",
       "      <th>least</th>\n",
       "      <td>0.089452</td>\n",
       "      <td>0.087690</td>\n",
       "      <td>0.086592</td>\n",
       "      <td>0.086175</td>\n",
       "      <td>0.082359</td>\n",
       "      <td>0.077992</td>\n",
       "      <td>0.076162</td>\n",
       "      <td>0.075804</td>\n",
       "      <td>0.075804</td>\n",
       "      <td>0.074855</td>\n",
       "      <td>...</td>\n",
       "      <td>0.000000</td>\n",
       "      <td>0.000000</td>\n",
       "      <td>0.000000</td>\n",
       "      <td>0.000000</td>\n",
       "      <td>0.000000</td>\n",
       "      <td>0.000000</td>\n",
       "      <td>0.000000</td>\n",
       "      <td>0.000000</td>\n",
       "      <td>0.000000</td>\n",
       "      <td>0.000000</td>\n",
       "    </tr>\n",
       "    <tr>\n",
       "      <th>most</th>\n",
       "      <td>0.076920</td>\n",
       "      <td>0.095147</td>\n",
       "      <td>0.000000</td>\n",
       "      <td>0.091589</td>\n",
       "      <td>0.089078</td>\n",
       "      <td>0.000000</td>\n",
       "      <td>0.018802</td>\n",
       "      <td>0.000000</td>\n",
       "      <td>0.000000</td>\n",
       "      <td>0.103821</td>\n",
       "      <td>...</td>\n",
       "      <td>0.026426</td>\n",
       "      <td>0.026426</td>\n",
       "      <td>0.026426</td>\n",
       "      <td>0.026426</td>\n",
       "      <td>0.044742</td>\n",
       "      <td>0.026426</td>\n",
       "      <td>0.044742</td>\n",
       "      <td>0.026426</td>\n",
       "      <td>0.026426</td>\n",
       "      <td>0.044742</td>\n",
       "    </tr>\n",
       "  </tbody>\n",
       "</table>\n",
       "<p>2 rows × 1181 columns</p>\n",
       "</div>"
      ],
      "text/plain": [
       "          group  response      fast   project      like    little      dont  \\\n",
       "least  0.089452  0.087690  0.086592  0.086175  0.082359  0.077992  0.076162   \n",
       "most   0.076920  0.095147  0.000000  0.091589  0.089078  0.000000  0.018802   \n",
       "\n",
       "           none      lost  assignments  ...  programing  discussing  \\\n",
       "least  0.075804  0.075804     0.074855  ...    0.000000    0.000000   \n",
       "most   0.000000  0.000000     0.103821  ...    0.026426    0.026426   \n",
       "\n",
       "       professors  profellis      prof   produce  processing    doable  \\\n",
       "least    0.000000   0.000000  0.000000  0.000000    0.000000  0.000000   \n",
       "most     0.026426   0.026426  0.044742  0.026426    0.044742  0.026426   \n",
       "\n",
       "             dr   dataset  \n",
       "least  0.000000  0.000000  \n",
       "most   0.026426  0.044742  \n",
       "\n",
       "[2 rows x 1181 columns]"
      ]
     },
     "execution_count": 87,
     "metadata": {},
     "output_type": "execute_result"
    }
   ],
   "source": [
    "cogs_tfidf.sort_values(by='least', axis=1, ascending=False)"
   ]
  },
  {
   "cell_type": "markdown",
   "metadata": {
    "slideshow": {
     "slide_type": "fragment"
    }
   },
   "source": [
    "**Sentiment Analysis** and **TF-IDF** are really helpful when analyzing documents and corpuses of text.\n",
    "\n",
    "But, what if, from the text itself we wanted to predict whether or not the text was likely a 'most' liked or a 'least' liked comment? We'll discuss how to do this in the coming **machine learning** lectures!"
   ]
  }
 ],
 "metadata": {
  "celltoolbar": "Slideshow",
  "kernelspec": {
   "display_name": "Python 3",
   "language": "python",
   "name": "python3"
  },
  "language_info": {
   "codemirror_mode": {
    "name": "ipython",
    "version": 3
   },
   "file_extension": ".py",
   "mimetype": "text/x-python",
   "name": "python",
   "nbconvert_exporter": "python",
   "pygments_lexer": "ipython3",
   "version": "3.6.8"
  },
  "rise": {
   "scroll": true
  }
 },
 "nbformat": 4,
 "nbformat_minor": 2
}
